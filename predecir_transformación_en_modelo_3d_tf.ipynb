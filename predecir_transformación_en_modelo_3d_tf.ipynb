{
  "nbformat": 4,
  "nbformat_minor": 0,
  "metadata": {
    "colab": {
      "name": "predecir transformación en modelo 3d tf.ipynb",
      "version": "0.3.2",
      "provenance": [],
      "collapsed_sections": [],
      "include_colab_link": true
    },
    "kernelspec": {
      "name": "python3",
      "display_name": "Python 3"
    }
  },
  "cells": [
    {
      "cell_type": "markdown",
      "metadata": {
        "id": "view-in-github",
        "colab_type": "text"
      },
      "source": [
        "<a href=\"https://colab.research.google.com/github/sandroormeno/tensorflow_graphics/blob/master/predecir_transformaci%C3%B3n_en_modelo_3d_tf.ipynb\" target=\"_parent\"><img src=\"https://colab.research.google.com/assets/colab-badge.svg\" alt=\"Open In Colab\"/></a>"
      ]
    },
    {
      "cell_type": "code",
      "metadata": {
        "id": "yH85dIW3x2jf",
        "colab_type": "code",
        "outputId": "fc7c72b0-2201-42a6-ab59-674465ef655e",
        "colab": {
          "base_uri": "https://localhost:8080/",
          "height": 394
        }
      },
      "source": [
        "!pip install tensorflow_graphics"
      ],
      "execution_count": 1,
      "outputs": [
        {
          "output_type": "stream",
          "text": [
            "Requirement already satisfied: tensorflow_graphics in /usr/local/lib/python3.6/dist-packages (1.0.0)\n",
            "Requirement already satisfied: six>=1.11.0 in /usr/local/lib/python3.6/dist-packages (from tensorflow_graphics) (1.12.0)\n",
            "Requirement already satisfied: tensorflow>=1.13.1 in /usr/local/lib/python3.6/dist-packages (from tensorflow_graphics) (1.13.1)\n",
            "Requirement already satisfied: numpy>=1.15.4 in /usr/local/lib/python3.6/dist-packages (from tensorflow_graphics) (1.16.3)\n",
            "Requirement already satisfied: absl-py>=0.6.1 in /usr/local/lib/python3.6/dist-packages (from tensorflow_graphics) (0.7.1)\n",
            "Requirement already satisfied: scipy>=1.1.0 in /usr/local/lib/python3.6/dist-packages (from tensorflow_graphics) (1.2.1)\n",
            "Requirement already satisfied: gast>=0.2.0 in /usr/local/lib/python3.6/dist-packages (from tensorflow>=1.13.1->tensorflow_graphics) (0.2.2)\n",
            "Requirement already satisfied: tensorflow-estimator<1.14.0rc0,>=1.13.0 in /usr/local/lib/python3.6/dist-packages (from tensorflow>=1.13.1->tensorflow_graphics) (1.13.0)\n",
            "Requirement already satisfied: termcolor>=1.1.0 in /usr/local/lib/python3.6/dist-packages (from tensorflow>=1.13.1->tensorflow_graphics) (1.1.0)\n",
            "Requirement already satisfied: grpcio>=1.8.6 in /usr/local/lib/python3.6/dist-packages (from tensorflow>=1.13.1->tensorflow_graphics) (1.15.0)\n",
            "Requirement already satisfied: wheel>=0.26 in /usr/local/lib/python3.6/dist-packages (from tensorflow>=1.13.1->tensorflow_graphics) (0.33.4)\n",
            "Requirement already satisfied: tensorboard<1.14.0,>=1.13.0 in /usr/local/lib/python3.6/dist-packages (from tensorflow>=1.13.1->tensorflow_graphics) (1.13.1)\n",
            "Requirement already satisfied: protobuf>=3.6.1 in /usr/local/lib/python3.6/dist-packages (from tensorflow>=1.13.1->tensorflow_graphics) (3.7.1)\n",
            "Requirement already satisfied: keras-applications>=1.0.6 in /usr/local/lib/python3.6/dist-packages (from tensorflow>=1.13.1->tensorflow_graphics) (1.0.7)\n",
            "Requirement already satisfied: keras-preprocessing>=1.0.5 in /usr/local/lib/python3.6/dist-packages (from tensorflow>=1.13.1->tensorflow_graphics) (1.0.9)\n",
            "Requirement already satisfied: astor>=0.6.0 in /usr/local/lib/python3.6/dist-packages (from tensorflow>=1.13.1->tensorflow_graphics) (0.7.1)\n",
            "Requirement already satisfied: mock>=2.0.0 in /usr/local/lib/python3.6/dist-packages (from tensorflow-estimator<1.14.0rc0,>=1.13.0->tensorflow>=1.13.1->tensorflow_graphics) (3.0.5)\n",
            "Requirement already satisfied: werkzeug>=0.11.15 in /usr/local/lib/python3.6/dist-packages (from tensorboard<1.14.0,>=1.13.0->tensorflow>=1.13.1->tensorflow_graphics) (0.15.2)\n",
            "Requirement already satisfied: markdown>=2.6.8 in /usr/local/lib/python3.6/dist-packages (from tensorboard<1.14.0,>=1.13.0->tensorflow>=1.13.1->tensorflow_graphics) (3.1)\n",
            "Requirement already satisfied: setuptools in /usr/local/lib/python3.6/dist-packages (from protobuf>=3.6.1->tensorflow>=1.13.1->tensorflow_graphics) (41.0.1)\n",
            "Requirement already satisfied: h5py in /usr/local/lib/python3.6/dist-packages (from keras-applications>=1.0.6->tensorflow>=1.13.1->tensorflow_graphics) (2.8.0)\n"
          ],
          "name": "stdout"
        }
      ]
    },
    {
      "cell_type": "code",
      "metadata": {
        "id": "B42fFzGEyGNw",
        "colab_type": "code",
        "colab": {
          "base_uri": "https://localhost:8080/",
          "height": 34
        },
        "outputId": "40be74ce-a12e-4d5c-a80a-16b096b41ad5"
      },
      "source": [
        "from __future__ import absolute_import\n",
        "from __future__ import division\n",
        "from __future__ import print_function\n",
        "\n",
        "import time\n",
        "\n",
        "import matplotlib.pyplot as plt\n",
        "import numpy as np\n",
        "import tensorflow as tf\n",
        "from tensorflow import keras\n",
        "from tensorflow.keras import layers\n",
        "\n",
        "from tensorflow_graphics.geometry.transformation import quaternion\n",
        "from tensorflow_graphics.math import vector\n",
        "from tensorflow_graphics.notebooks import threejs_visualization\n",
        "\n",
        "import numpy as np\n",
        "import urllib.request\n",
        "\n",
        "tf.enable_eager_execution()"
      ],
      "execution_count": 2,
      "outputs": [
        {
          "output_type": "stream",
          "text": [
            "Warning: To use the exr data format, please install the OpenEXR package following the instructions detailed in the README at github.com/tensorflow/graphics.\n"
          ],
          "name": "stderr"
        }
      ]
    },
    {
      "cell_type": "code",
      "metadata": {
        "id": "9-u4oaazykzt",
        "colab_type": "code",
        "colab": {}
      },
      "source": [
        "archivo = \"s.obj\"\n",
        "url = \"https://raw.githubusercontent.com/sandroormeno/tensorflow_graphics/master/\" + archivo\n",
        "urllib.request.urlretrieve(url, archivo)\n",
        "file = open(archivo, \"r\")"
      ],
      "execution_count": 0,
      "outputs": []
    },
    {
      "cell_type": "code",
      "metadata": {
        "id": "_Bglj6uYy2Z0",
        "colab_type": "code",
        "colab": {}
      },
      "source": [
        "vertices = ()\n",
        "faces = ()\n",
        "for line in file: \n",
        "    my_linea = line\n",
        "    x = my_linea.split(\" \")\n",
        "    if x[0]== \"v\":\n",
        "         # hay dos espacios entre v y los valores \n",
        "        vertice_tem = (float(x[2]), float(x[3]), float(x[4])),\n",
        "        vertices = vertices + vertice_tem\n",
        "    if x[0]== \"f\":\n",
        "         # hay un espacio entre f y los valores \n",
        "        cara_tem = (int(x[1]) -1, int(x[2])-1, int(x[3])-1), # para iniciar en CERO, cara O\n",
        "        faces = faces + cara_tem\n",
        "vertices = np.array(vertices).astype(np.float32)\n",
        "faces = np.array(faces).astype(np.float32)\n",
        "num_vertices = vertices.shape[0]"
      ],
      "execution_count": 0,
      "outputs": []
    },
    {
      "cell_type": "code",
      "metadata": {
        "id": "7lAJWM1Ly8oz",
        "colab_type": "code",
        "outputId": "d7446183-6c90-4022-f781-55192c4a98f2",
        "colab": {
          "base_uri": "https://localhost:8080/",
          "height": 221
        }
      },
      "source": [
        "# https://www.htmlcsscolor.com/hex/808080\n",
        "def ver():\n",
        "  context = threejs_visualization.build_context()\n",
        "  light1 = context.THREE.PointLight.new_object(0XDB3838)\n",
        "  light1.position.set(50., 10., 10.)\n",
        "  light2 = context.THREE.AmbientLight.new_object(0x6AA84F)# 0x808080\n",
        "  light2.position.set(-50., 10., 10.)\n",
        "  lights = (light1, light2)\n",
        "  material = context.THREE.MeshPhongMaterial.new_object( { 'color': 0xCCCCCC, 'dithering': True , } );\n",
        "  mesh = {'vertices': vertices, 'faces': faces, 'material': material, 'castShadow' : True , 'receiveShadow' : True }\n",
        "  camera = threejs_visualization.build_perspective_camera(\n",
        "          field_of_view=30, position=(10.0, 10.0, 10.0))\n",
        "  width = 200\n",
        "  height = 200\n",
        "  _ = threejs_visualization.triangular_mesh_renderer([mesh],\n",
        "                                                     width=width,\n",
        "                                                     height=height,\n",
        "                                                     camera=camera,\n",
        "                                                   lights=lights)\n",
        "ver()"
      ],
      "execution_count": 5,
      "outputs": [
        {
          "output_type": "display_data",
          "data": {
            "text/html": [
              "<script src='https://www.gstatic.com/external_hosted/threejs-r98/three.min.js'></script>"
            ],
            "text/plain": [
              "<IPython.core.display.HTML object>"
            ]
          },
          "metadata": {
            "tags": []
          }
        },
        {
          "output_type": "display_data",
          "data": {
            "text/html": [
              "<script src='https://www.gstatic.com/external_hosted/threejs-r98/examples/js/controls/OrbitControls.js'></script>"
            ],
            "text/plain": [
              "<IPython.core.display.HTML object>"
            ]
          },
          "metadata": {
            "tags": []
          }
        },
        {
          "output_type": "display_data",
          "data": {
            "application/javascript": [
              "window[\"1ed30290-7813-11e9-b239-0242ac1c0002\"] = new THREE.PointLight(14366776);\n",
              "//# sourceURL=js_71775c9638"
            ],
            "text/plain": [
              "<IPython.core.display.Javascript object>"
            ]
          },
          "metadata": {
            "tags": []
          }
        },
        {
          "output_type": "display_data",
          "data": {
            "application/javascript": [
              "window[\"1ed34138-7813-11e9-b239-0242ac1c0002\"] = window[\"1ed30290-7813-11e9-b239-0242ac1c0002\"].position.set(50.0, 10.0, 10.0);\n",
              "//# sourceURL=js_8a9023ebb2"
            ],
            "text/plain": [
              "<IPython.core.display.Javascript object>"
            ]
          },
          "metadata": {
            "tags": []
          }
        },
        {
          "output_type": "display_data",
          "data": {
            "application/javascript": [
              "window[\"1ed3746e-7813-11e9-b239-0242ac1c0002\"] = new THREE.AmbientLight(6989903);\n",
              "//# sourceURL=js_9866e81fd0"
            ],
            "text/plain": [
              "<IPython.core.display.Javascript object>"
            ]
          },
          "metadata": {
            "tags": []
          }
        },
        {
          "output_type": "display_data",
          "data": {
            "application/javascript": [
              "window[\"1ed3a1be-7813-11e9-b239-0242ac1c0002\"] = window[\"1ed3746e-7813-11e9-b239-0242ac1c0002\"].position.set(-50.0, 10.0, 10.0);\n",
              "//# sourceURL=js_55528ce958"
            ],
            "text/plain": [
              "<IPython.core.display.Javascript object>"
            ]
          },
          "metadata": {
            "tags": []
          }
        },
        {
          "output_type": "display_data",
          "data": {
            "application/javascript": [
              "window[\"1ed3cc48-7813-11e9-b239-0242ac1c0002\"] = new THREE.MeshPhongMaterial({\"color\": 13421772, \"dithering\": true});\n",
              "//# sourceURL=js_c962ad2eac"
            ],
            "text/plain": [
              "<IPython.core.display.Javascript object>"
            ]
          },
          "metadata": {
            "tags": []
          }
        },
        {
          "output_type": "display_data",
          "data": {
            "text/html": [
              "<script src='https://www.gstatic.com/external_hosted/threejs-r98/three.min.js'></script>"
            ],
            "text/plain": [
              "<IPython.core.display.HTML object>"
            ]
          },
          "metadata": {
            "tags": []
          }
        },
        {
          "output_type": "display_data",
          "data": {
            "text/html": [
              "<script src='https://www.gstatic.com/external_hosted/threejs-r98/examples/js/controls/OrbitControls.js'></script>"
            ],
            "text/plain": [
              "<IPython.core.display.HTML object>"
            ]
          },
          "metadata": {
            "tags": []
          }
        },
        {
          "output_type": "display_data",
          "data": {
            "application/javascript": [
              "window[\"1ed46306-7813-11e9-b239-0242ac1c0002\"] = new THREE.PerspectiveCamera(30, 1.0, 0.01, 1000.0);\n",
              "//# sourceURL=js_706833debd"
            ],
            "text/plain": [
              "<IPython.core.display.Javascript object>"
            ]
          },
          "metadata": {
            "tags": []
          }
        },
        {
          "output_type": "display_data",
          "data": {
            "application/javascript": [
              "window[\"1ed4c9ea-7813-11e9-b239-0242ac1c0002\"] = window[\"1ed46306-7813-11e9-b239-0242ac1c0002\"].position.set(10.0, 10.0, 10.0);\n",
              "//# sourceURL=js_1ee613c4de"
            ],
            "text/plain": [
              "<IPython.core.display.Javascript object>"
            ]
          },
          "metadata": {
            "tags": []
          }
        },
        {
          "output_type": "display_data",
          "data": {
            "application/javascript": [
              "window[\"1ed4ff5a-7813-11e9-b239-0242ac1c0002\"] = new THREE.OrbitControls(window[\"1ed46306-7813-11e9-b239-0242ac1c0002\"]);\n",
              "//# sourceURL=js_58161026f5"
            ],
            "text/plain": [
              "<IPython.core.display.Javascript object>"
            ]
          },
          "metadata": {
            "tags": []
          }
        },
        {
          "output_type": "display_data",
          "data": {
            "application/javascript": [
              "window[\"1ed4ff5a-7813-11e9-b239-0242ac1c0002\"].enableZoom = false;\n",
              "//# sourceURL=js_b37e040fbf"
            ],
            "text/plain": [
              "<IPython.core.display.Javascript object>"
            ]
          },
          "metadata": {
            "tags": []
          }
        },
        {
          "output_type": "display_data",
          "data": {
            "text/html": [
              "<script src='https://www.gstatic.com/external_hosted/threejs-r98/three.min.js'></script>"
            ],
            "text/plain": [
              "<IPython.core.display.HTML object>"
            ]
          },
          "metadata": {
            "tags": []
          }
        },
        {
          "output_type": "display_data",
          "data": {
            "text/html": [
              "<script src='https://www.gstatic.com/external_hosted/threejs-r98/examples/js/controls/OrbitControls.js'></script>"
            ],
            "text/plain": [
              "<IPython.core.display.HTML object>"
            ]
          },
          "metadata": {
            "tags": []
          }
        },
        {
          "output_type": "display_data",
          "data": {
            "application/javascript": [
              "window[\"1ed5c552-7813-11e9-b239-0242ac1c0002\"] = new THREE.WebGLRenderer({\"antialias\": true});\n",
              "//# sourceURL=js_3d55815fda"
            ],
            "text/plain": [
              "<IPython.core.display.Javascript object>"
            ]
          },
          "metadata": {
            "tags": []
          }
        },
        {
          "output_type": "display_data",
          "data": {
            "application/javascript": [
              "window[\"1ed5fb3a-7813-11e9-b239-0242ac1c0002\"] = window[\"1ed5c552-7813-11e9-b239-0242ac1c0002\"].setSize(200, 200);\n",
              "//# sourceURL=js_f71923c0d0"
            ],
            "text/plain": [
              "<IPython.core.display.Javascript object>"
            ]
          },
          "metadata": {
            "tags": []
          }
        },
        {
          "output_type": "display_data",
          "data": {
            "application/javascript": [
              "window[\"1ed62ca4-7813-11e9-b239-0242ac1c0002\"] = new THREE.Color(\"rgb(0, 0, 0)\");\n",
              "//# sourceURL=js_ee263721f6"
            ],
            "text/plain": [
              "<IPython.core.display.Javascript object>"
            ]
          },
          "metadata": {
            "tags": []
          }
        },
        {
          "output_type": "display_data",
          "data": {
            "application/javascript": [
              "window[\"1ed65fb2-7813-11e9-b239-0242ac1c0002\"] = window[\"1ed5c552-7813-11e9-b239-0242ac1c0002\"].setClearColor(window[\"1ed62ca4-7813-11e9-b239-0242ac1c0002\"]);\n",
              "//# sourceURL=js_a6183dc482"
            ],
            "text/plain": [
              "<IPython.core.display.Javascript object>"
            ]
          },
          "metadata": {
            "tags": []
          }
        },
        {
          "output_type": "display_data",
          "data": {
            "application/javascript": [
              "window[\"1ed68f8c-7813-11e9-b239-0242ac1c0002\"] = window[\"1ed5c552-7813-11e9-b239-0242ac1c0002\"].clear();\n",
              "//# sourceURL=js_e6e2074c2d"
            ],
            "text/plain": [
              "<IPython.core.display.Javascript object>"
            ]
          },
          "metadata": {
            "tags": []
          }
        },
        {
          "output_type": "display_data",
          "data": {
            "application/javascript": [
              "window[\"1ed6c4ca-7813-11e9-b239-0242ac1c0002\"] = document.body.appendChild(window[\"1ed5c552-7813-11e9-b239-0242ac1c0002\"].domElement);\n",
              "//# sourceURL=js_2e21248e27"
            ],
            "text/plain": [
              "<IPython.core.display.Javascript object>"
            ]
          },
          "metadata": {
            "tags": []
          }
        },
        {
          "output_type": "display_data",
          "data": {
            "application/javascript": [
              "window[\"1ed6f3e6-7813-11e9-b239-0242ac1c0002\"] = new THREE.Scene();\n",
              "//# sourceURL=js_29e9fd2e1d"
            ],
            "text/plain": [
              "<IPython.core.display.Javascript object>"
            ]
          },
          "metadata": {
            "tags": []
          }
        },
        {
          "output_type": "display_data",
          "data": {
            "application/javascript": [
              "window[\"1ed72352-7813-11e9-b239-0242ac1c0002\"] = window[\"1ed6f3e6-7813-11e9-b239-0242ac1c0002\"].add(window[\"1ed30290-7813-11e9-b239-0242ac1c0002\"]);\n",
              "//# sourceURL=js_ead385c96d"
            ],
            "text/plain": [
              "<IPython.core.display.Javascript object>"
            ]
          },
          "metadata": {
            "tags": []
          }
        },
        {
          "output_type": "display_data",
          "data": {
            "application/javascript": [
              "window[\"1ed7534a-7813-11e9-b239-0242ac1c0002\"] = window[\"1ed6f3e6-7813-11e9-b239-0242ac1c0002\"].add(window[\"1ed3746e-7813-11e9-b239-0242ac1c0002\"]);\n",
              "//# sourceURL=js_2864533d96"
            ],
            "text/plain": [
              "<IPython.core.display.Javascript object>"
            ]
          },
          "metadata": {
            "tags": []
          }
        },
        {
          "output_type": "display_data",
          "data": {
            "application/javascript": [
              "window[\"1ed7813a-7813-11e9-b239-0242ac1c0002\"] = new THREE.MeshLambertMaterial({\"color\": 8421504});\n",
              "//# sourceURL=js_466a241429"
            ],
            "text/plain": [
              "<IPython.core.display.Javascript object>"
            ]
          },
          "metadata": {
            "tags": []
          }
        },
        {
          "output_type": "display_data",
          "data": {
            "application/javascript": [
              "window[\"1ed7813a-7813-11e9-b239-0242ac1c0002\"][\"vertexColors\"] = THREE.NoColors;\n",
              "//# sourceURL=js_9281ed5f45"
            ],
            "text/plain": [
              "<IPython.core.display.Javascript object>"
            ]
          },
          "metadata": {
            "tags": []
          }
        },
        {
          "output_type": "display_data",
          "data": {
            "application/javascript": [
              "window[\"1ed7e60c-7813-11e9-b239-0242ac1c0002\"] = new Float32Array([0.5, -1.8906999826431274, 0.39500001072883606, -0.5, -1.8906999826431274, 0.39500001072883606, 0.5, -1.5742000341415405, 1.2753000259399414, -0.5, -1.5742000341415405, 1.2753000259399414, 0.5, -0.9812999963760376, 0.3691999912261963, -0.5, -0.9812999963760376, 0.3691999912261963, 0.5, -0.6111999750137329, 1.1481000185012817, -0.5, -0.6111999750137329, 1.1481000185012817, 0.5, -1.8906999826431274, -0.4433000087738037, -0.5, -1.8906999826431274, -0.4433000087738037, -0.5, -0.8968999981880188, -0.5056999921798706, 0.5, -0.8968999981880188, -0.5056999921798706, 0.5, -1.6899000406265259, -1.1369999647140503, -0.5, -1.6899000406265259, -1.1369999647140503, -0.5, -0.8906999826431274, -1.2753000259399414, 0.5, -0.8906999826431274, -1.2753000259399414, -0.5, -0.26249998807907104, -0.38999998569488525, 0.5, -0.26249998807907104, -0.38999998569488525, 0.5, -0.19429999589920044, -1.2753000259399414, -0.5, -0.19429999589920044, -1.2753000259399414, -0.5, 0.5135999917984009, -0.4433000087738037, 0.5, 0.5135999917984009, -0.4433000087738037, 0.5, 0.43309998512268066, -1.113800048828125, -0.5, 0.43309998512268066, -1.113800048828125, -0.5, -0.27489998936653137, 0.39590001106262207, 0.5, -0.27489998936653137, 0.39590001106262207, 0.5, 0.6164000034332275, 0.47679999470710754, -0.5, 0.6164000034332275, 0.47679999470710754, -0.5, -0.020500000566244125, 1.0657000541687012, 0.5, -0.020500000566244125, 1.0657000541687012, 0.5, 0.5135999917984009, 1.2314000129699707, -0.5, 0.5135999917984009, 1.2314000129699707, 0.5, 1.1051000356674194, 0.47679999470710754, -0.5, 1.1051000356674194, 0.47679999470710754, -0.5, 1.2352999448776245, 1.2314000129699707, 0.5, 1.2352999448776245, 1.2314000129699707, 0.5, 1.8906999826431274, 0.37529999017715454, -0.5, 1.8906999826431274, 0.37529999017715454, -0.5, 1.7821999788284302, 1.0772000551223755, 0.5, 1.7821999788284302, 1.0772000551223755, 0.5, 1.2640000581741333, -0.3384999930858612, -0.5, 1.2640000581741333, -0.3384999930858612, -0.5, 1.8906999826431274, -0.5205000042915344, 0.5, 1.8906999826431274, -0.5205000042915344, 0.5, 1.0333000421524048, -0.8752999901771545, -0.5, 1.0333000421524048, -0.8752999901771545, -0.5, 1.6433000564575195, -1.1174999475479126, 0.5, 1.6433000564575195, -1.1174999475479126]);\n",
              "//# sourceURL=js_b0c1dc29d9"
            ],
            "text/plain": [
              "<IPython.core.display.Javascript object>"
            ]
          },
          "metadata": {
            "tags": []
          }
        },
        {
          "output_type": "display_data",
          "data": {
            "application/javascript": [
              "window[\"1ed81cc6-7813-11e9-b239-0242ac1c0002\"] = new Uint32Array([0.0, 2.0, 3.0, 3.0, 1.0, 0.0, 4.0, 5.0, 7.0, 7.0, 6.0, 4.0, 12.0, 13.0, 14.0, 14.0, 15.0, 12.0, 1.0, 3.0, 7.0, 7.0, 5.0, 1.0, 3.0, 2.0, 6.0, 6.0, 7.0, 3.0, 2.0, 0.0, 4.0, 4.0, 6.0, 2.0, 0.0, 1.0, 9.0, 9.0, 8.0, 0.0, 1.0, 5.0, 10.0, 10.0, 9.0, 1.0, 5.0, 4.0, 11.0, 11.0, 10.0, 5.0, 4.0, 0.0, 8.0, 8.0, 11.0, 4.0, 8.0, 9.0, 13.0, 13.0, 12.0, 8.0, 9.0, 10.0, 14.0, 14.0, 13.0, 9.0, 20.0, 21.0, 22.0, 22.0, 23.0, 20.0, 11.0, 8.0, 12.0, 12.0, 15.0, 11.0, 10.0, 11.0, 17.0, 17.0, 16.0, 10.0, 11.0, 15.0, 18.0, 18.0, 17.0, 11.0, 15.0, 14.0, 19.0, 19.0, 18.0, 15.0, 14.0, 10.0, 16.0, 16.0, 19.0, 14.0, 28.0, 29.0, 30.0, 30.0, 31.0, 28.0, 17.0, 18.0, 22.0, 22.0, 21.0, 17.0, 18.0, 19.0, 23.0, 23.0, 22.0, 18.0, 19.0, 16.0, 20.0, 20.0, 23.0, 19.0, 16.0, 17.0, 25.0, 25.0, 24.0, 16.0, 17.0, 21.0, 26.0, 26.0, 25.0, 17.0, 21.0, 20.0, 27.0, 27.0, 26.0, 21.0, 20.0, 16.0, 24.0, 24.0, 27.0, 20.0, 24.0, 25.0, 29.0, 29.0, 28.0, 24.0, 25.0, 26.0, 30.0, 30.0, 29.0, 25.0, 36.0, 37.0, 38.0, 38.0, 39.0, 36.0, 27.0, 24.0, 28.0, 28.0, 31.0, 27.0, 26.0, 27.0, 33.0, 33.0, 32.0, 26.0, 27.0, 31.0, 34.0, 34.0, 33.0, 27.0, 31.0, 30.0, 35.0, 35.0, 34.0, 31.0, 30.0, 26.0, 32.0, 32.0, 35.0, 30.0, 44.0, 45.0, 46.0, 46.0, 47.0, 44.0, 33.0, 34.0, 38.0, 38.0, 37.0, 33.0, 34.0, 35.0, 39.0, 39.0, 38.0, 34.0, 35.0, 32.0, 36.0, 36.0, 39.0, 35.0, 32.0, 33.0, 41.0, 41.0, 40.0, 32.0, 33.0, 37.0, 42.0, 42.0, 41.0, 33.0, 37.0, 36.0, 43.0, 43.0, 42.0, 37.0, 36.0, 32.0, 40.0, 40.0, 43.0, 36.0, 40.0, 41.0, 45.0, 45.0, 44.0, 40.0, 41.0, 42.0, 46.0, 46.0, 45.0, 41.0, 42.0, 43.0, 47.0, 47.0, 46.0, 42.0, 43.0, 40.0, 44.0, 44.0, 47.0, 43.0]);\n",
              "//# sourceURL=js_ea84c3ac19"
            ],
            "text/plain": [
              "<IPython.core.display.Javascript object>"
            ]
          },
          "metadata": {
            "tags": []
          }
        },
        {
          "output_type": "display_data",
          "data": {
            "application/javascript": [
              "window[\"1ed84de0-7813-11e9-b239-0242ac1c0002\"] = new THREE.BufferGeometry();\n",
              "//# sourceURL=js_bbbc7f78b6"
            ],
            "text/plain": [
              "<IPython.core.display.Javascript object>"
            ]
          },
          "metadata": {
            "tags": []
          }
        },
        {
          "output_type": "display_data",
          "data": {
            "application/javascript": [
              "window[\"1ed8818e-7813-11e9-b239-0242ac1c0002\"] = new THREE.BufferAttribute(window[\"1ed7e60c-7813-11e9-b239-0242ac1c0002\"], 3);\n",
              "//# sourceURL=js_fbe7e751e3"
            ],
            "text/plain": [
              "<IPython.core.display.Javascript object>"
            ]
          },
          "metadata": {
            "tags": []
          }
        },
        {
          "output_type": "display_data",
          "data": {
            "application/javascript": [
              "window[\"1ed8b118-7813-11e9-b239-0242ac1c0002\"] = window[\"1ed84de0-7813-11e9-b239-0242ac1c0002\"].addAttribute(\"position\", window[\"1ed8818e-7813-11e9-b239-0242ac1c0002\"]);\n",
              "//# sourceURL=js_5bb59d7007"
            ],
            "text/plain": [
              "<IPython.core.display.Javascript object>"
            ]
          },
          "metadata": {
            "tags": []
          }
        },
        {
          "output_type": "display_data",
          "data": {
            "application/javascript": [
              "window[\"1ed8e4bc-7813-11e9-b239-0242ac1c0002\"] = new THREE.BufferAttribute(window[\"1ed81cc6-7813-11e9-b239-0242ac1c0002\"], 1);\n",
              "//# sourceURL=js_0a61c7810b"
            ],
            "text/plain": [
              "<IPython.core.display.Javascript object>"
            ]
          },
          "metadata": {
            "tags": []
          }
        },
        {
          "output_type": "display_data",
          "data": {
            "application/javascript": [
              "window[\"1ed915c2-7813-11e9-b239-0242ac1c0002\"] = window[\"1ed84de0-7813-11e9-b239-0242ac1c0002\"].setIndex(window[\"1ed8e4bc-7813-11e9-b239-0242ac1c0002\"]);\n",
              "//# sourceURL=js_a6c4c0eb51"
            ],
            "text/plain": [
              "<IPython.core.display.Javascript object>"
            ]
          },
          "metadata": {
            "tags": []
          }
        },
        {
          "output_type": "display_data",
          "data": {
            "application/javascript": [
              "window[\"1ed946a0-7813-11e9-b239-0242ac1c0002\"] = window[\"1ed84de0-7813-11e9-b239-0242ac1c0002\"].computeVertexNormals();\n",
              "//# sourceURL=js_998b1378c8"
            ],
            "text/plain": [
              "<IPython.core.display.Javascript object>"
            ]
          },
          "metadata": {
            "tags": []
          }
        },
        {
          "output_type": "display_data",
          "data": {
            "application/javascript": [
              "window[\"1ed97666-7813-11e9-b239-0242ac1c0002\"] = new THREE.Mesh(window[\"1ed84de0-7813-11e9-b239-0242ac1c0002\"], window[\"1ed3cc48-7813-11e9-b239-0242ac1c0002\"]);\n",
              "//# sourceURL=js_37c254fa5d"
            ],
            "text/plain": [
              "<IPython.core.display.Javascript object>"
            ]
          },
          "metadata": {
            "tags": []
          }
        },
        {
          "output_type": "display_data",
          "data": {
            "application/javascript": [
              "window[\"1ed9a726-7813-11e9-b239-0242ac1c0002\"] = window[\"1ed6f3e6-7813-11e9-b239-0242ac1c0002\"].add(window[\"1ed97666-7813-11e9-b239-0242ac1c0002\"]);\n",
              "//# sourceURL=js_edd98562fb"
            ],
            "text/plain": [
              "<IPython.core.display.Javascript object>"
            ]
          },
          "metadata": {
            "tags": []
          }
        }
      ]
    },
    {
      "cell_type": "code",
      "metadata": {
        "id": "gbDcB-qUy_ZZ",
        "colab_type": "code",
        "outputId": "53368cee-4a08-44a0-95a6-d37eefec9d42",
        "colab": {
          "base_uri": "https://localhost:8080/",
          "height": 411
        }
      },
      "source": [
        "# Constructs the model.\n",
        "model = keras.Sequential()\n",
        "model.add(layers.Flatten(input_shape=(num_vertices, 3)))\n",
        "model.add(layers.Dense(64, activation=tf.nn.tanh))\n",
        "model.add(layers.Dense(64, activation=tf.nn.relu))\n",
        "model.add(layers.Dense(7))\n",
        "\n",
        "\n",
        "def pose_estimation_loss(y_true, y_pred):\n",
        "  # y_true.shape : (batch, 7)\n",
        "  y_true_q, y_true_t = tf.split(y_true, (4, 3), axis=-1)\n",
        "  # y_pred.shape : (batch, 7)\n",
        "  y_pred_q, y_pred_t = tf.split(y_pred, (4, 3), axis=-1)\n",
        "\n",
        "  # vertices.shape: (num_vertices, 3)\n",
        "  # corners.shape:(num_vertices, 1, 3)\n",
        "  corners = tf.expand_dims(vertices, axis=1)\n",
        "\n",
        "  # transformed_corners.shape: (num_vertices, batch, 3)\n",
        "  # q and t shapes get pre-pre-padded with 1's following standard broadcast rules.\n",
        "  transformed_corners = quaternion.rotate(corners, y_pred_q) + y_pred_t\n",
        "\n",
        "  # recovered_corners.shape: (num_vertices, batch, 3)\n",
        "  recovered_corners = quaternion.rotate(transformed_corners - y_true_t,\n",
        "                                        quaternion.inverse(y_true_q))\n",
        "\n",
        "  # vertex_error.shape: (num_vertices, batch)\n",
        "  vertex_error = tf.reduce_sum((recovered_corners - corners)**2, axis=-1)\n",
        "\n",
        "  return tf.reduce_mean(vertex_error)\n",
        "\n",
        "\n",
        "optimizer = keras.optimizers.Adam()\n",
        "model.compile(loss=pose_estimation_loss, optimizer=optimizer)\n",
        "model.summary()"
      ],
      "execution_count": 6,
      "outputs": [
        {
          "output_type": "stream",
          "text": [
            "WARNING:tensorflow:From /usr/local/lib/python3.6/dist-packages/tensorflow/python/ops/resource_variable_ops.py:642: colocate_with (from tensorflow.python.framework.ops) is deprecated and will be removed in a future version.\n",
            "Instructions for updating:\n",
            "Colocations handled automatically by placer.\n"
          ],
          "name": "stdout"
        },
        {
          "output_type": "stream",
          "text": [
            "WARNING: Logging before flag parsing goes to stderr.\n",
            "W0516 19:45:27.152024 140622430836608 deprecation.py:323] From /usr/local/lib/python3.6/dist-packages/tensorflow/python/ops/resource_variable_ops.py:642: colocate_with (from tensorflow.python.framework.ops) is deprecated and will be removed in a future version.\n",
            "Instructions for updating:\n",
            "Colocations handled automatically by placer.\n"
          ],
          "name": "stderr"
        },
        {
          "output_type": "stream",
          "text": [
            "_________________________________________________________________\n",
            "Layer (type)                 Output Shape              Param #   \n",
            "=================================================================\n",
            "flatten (Flatten)            (None, 144)               0         \n",
            "_________________________________________________________________\n",
            "dense (Dense)                (None, 64)                9280      \n",
            "_________________________________________________________________\n",
            "dense_1 (Dense)              (None, 64)                4160      \n",
            "_________________________________________________________________\n",
            "dense_2 (Dense)              (None, 7)                 455       \n",
            "=================================================================\n",
            "Total params: 13,895\n",
            "Trainable params: 13,895\n",
            "Non-trainable params: 0\n",
            "_________________________________________________________________\n"
          ],
          "name": "stdout"
        }
      ]
    },
    {
      "cell_type": "code",
      "metadata": {
        "id": "rhgY9j112VPe",
        "colab_type": "code",
        "colab": {}
      },
      "source": [
        "def generate_training_data(num_samples):\n",
        "  # random_angles.shape: (num_samples, 3)\n",
        "  random_angles = np.random.uniform(-np.pi, np.pi,\n",
        "                                    (num_samples, 3)).astype(np.float32)\n",
        "\n",
        "  # random_quaternion.shape: (num_samples, 4)\n",
        "  random_quaternion = quaternion.from_euler(random_angles)\n",
        "\n",
        "  # random_translation.shape: (num_samples, 3)\n",
        "  random_translation = np.random.uniform(-2.0, 2.0,\n",
        "                                         (num_samples, 3)).astype(np.float32)\n",
        "\n",
        "  # data.shape : (num_samples, num_vertices, 3)\n",
        "  data = quaternion.rotate(vertices[tf.newaxis, :, :],\n",
        "                           random_quaternion[:, tf.newaxis, :]\n",
        "                          ) + random_translation[:, tf.newaxis, :]\n",
        "\n",
        "\n",
        "  # target.shape : (num_samples, 4+3)\n",
        "  target = tf.concat((random_quaternion, random_translation), axis=-1)\n",
        "\n",
        "  return np.array(data), np.array(target)"
      ],
      "execution_count": 0,
      "outputs": []
    },
    {
      "cell_type": "code",
      "metadata": {
        "id": "eXsOKrtx2Yip",
        "colab_type": "code",
        "colab": {}
      },
      "source": [
        "num_samples = 30000\n",
        "\n",
        "data, target = generate_training_data(num_samples)\n"
      ],
      "execution_count": 0,
      "outputs": []
    },
    {
      "cell_type": "code",
      "metadata": {
        "id": "E7EnQurR_Cgg",
        "colab_type": "code",
        "colab": {}
      },
      "source": [
        "# Callback allowing to display the progression of the training task.\n",
        "class ProgressTracker(keras.callbacks.Callback):\n",
        "\n",
        "  def __init__(self, num_epochs, step=5):\n",
        "    self.num_epochs = num_epochs\n",
        "    self.current_epoch = 0.\n",
        "    self.step = step\n",
        "    self.last_percentage_report = 0\n",
        "\n",
        "  def on_epoch_end(self, batch, logs={}):\n",
        "    self.current_epoch += 1.\n",
        "    training_percentage = int(self.current_epoch * 100.0 / self.num_epochs)\n",
        "    if training_percentage - self.last_percentage_report >= self.step:\n",
        "      print('Training ' + str(\n",
        "          training_percentage) + '% complete. Training loss: ' + str(\n",
        "              logs.get('loss')) + ' | Validation loss: ' + str(\n",
        "                  logs.get('val_loss')))\n",
        "      self.last_percentage_report = training_percentage"
      ],
      "execution_count": 0,
      "outputs": []
    },
    {
      "cell_type": "code",
      "metadata": {
        "id": "M1q_g4ZR_C_n",
        "colab_type": "code",
        "colab": {}
      },
      "source": [
        "reduce_lr_callback = keras.callbacks.ReduceLROnPlateau(\n",
        "    monitor='val_loss',\n",
        "    factor=0.5,\n",
        "    patience=10,\n",
        "    verbose=0,\n",
        "    mode='auto',\n",
        "    min_delta=0.0001,\n",
        "    cooldown=0,\n",
        "    min_lr=0)"
      ],
      "execution_count": 0,
      "outputs": []
    },
    {
      "cell_type": "code",
      "metadata": {
        "id": "0s6CrDgSAKDj",
        "colab_type": "code",
        "outputId": "af15bd5c-c85b-4160-c924-a45db1542812",
        "colab": {
          "base_uri": "https://localhost:8080/",
          "height": 479
        }
      },
      "source": [
        "# Everything is now in place to train.\n",
        "EPOCHS = 100\n",
        "pt = ProgressTracker(EPOCHS)\n",
        "history = model.fit(\n",
        "    data,\n",
        "    target,\n",
        "    epochs=EPOCHS,\n",
        "    validation_split=0.2,\n",
        "    verbose=0,\n",
        "    batch_size=32,\n",
        "    callbacks=[reduce_lr_callback, pt])\n"
      ],
      "execution_count": 11,
      "outputs": [
        {
          "output_type": "stream",
          "text": [
            "WARNING:tensorflow:From /usr/local/lib/python3.6/dist-packages/tensorflow/python/ops/math_ops.py:3066: to_int32 (from tensorflow.python.ops.math_ops) is deprecated and will be removed in a future version.\n",
            "Instructions for updating:\n",
            "Use tf.cast instead.\n"
          ],
          "name": "stdout"
        },
        {
          "output_type": "stream",
          "text": [
            "W0516 19:46:13.350914 140622430836608 deprecation.py:323] From /usr/local/lib/python3.6/dist-packages/tensorflow/python/ops/math_ops.py:3066: to_int32 (from tensorflow.python.ops.math_ops) is deprecated and will be removed in a future version.\n",
            "Instructions for updating:\n",
            "Use tf.cast instead.\n"
          ],
          "name": "stderr"
        },
        {
          "output_type": "stream",
          "text": [
            "Training 5% complete. Training loss: 0.15604736781617007 | Validation loss: 0.16296758550405502\n",
            "Training 10% complete. Training loss: 0.10007380284120639 | Validation loss: 0.0947694166302681\n",
            "Training 15% complete. Training loss: 0.07821367359658082 | Validation loss: 0.0766801559527715\n",
            "Training 20% complete. Training loss: 0.0637396983926495 | Validation loss: 0.0665423223276933\n",
            "Training 25% complete. Training loss: 0.058841901974131666 | Validation loss: 0.06918076415856679\n",
            "Training 30% complete. Training loss: 0.054322327146927515 | Validation loss: 0.055002408449848494\n",
            "Training 35% complete. Training loss: 0.05328541054452459 | Validation loss: 0.053410310342907906\n",
            "Training 40% complete. Training loss: 0.04438072718059023 | Validation loss: 0.05182333178321521\n",
            "Training 45% complete. Training loss: 0.03306646849277119 | Validation loss: 0.03648721041282018\n",
            "Training 50% complete. Training loss: 0.02946516752615571 | Validation loss: 0.03831141869723797\n",
            "Training 55% complete. Training loss: 0.028699046308174728 | Validation loss: 0.03809595969319344\n",
            "Training 60% complete. Training loss: 0.029089846293752393 | Validation loss: 0.0319330887782077\n",
            "Training 65% complete. Training loss: 0.02795464359348019 | Validation loss: 0.03251372698446115\n",
            "Training 70% complete. Training loss: 0.019962579530974228 | Validation loss: 0.028470807552337645\n",
            "Training 75% complete. Training loss: 0.01936723414156586 | Validation loss: 0.02725050521766146\n",
            "Training 80% complete. Training loss: 0.019628732699590423 | Validation loss: 0.025892170367141566\n",
            "Training 85% complete. Training loss: 0.015694364983433236 | Validation loss: 0.025044592407842476\n",
            "Training 90% complete. Training loss: 0.01515390921725581 | Validation loss: 0.02440306789924701\n",
            "Training 95% complete. Training loss: 0.01520408121527483 | Validation loss: 0.023900358037402234\n",
            "Training 100% complete. Training loss: 0.01468155737562726 | Validation loss: 0.024087995626032352\n"
          ],
          "name": "stdout"
        }
      ]
    },
    {
      "cell_type": "code",
      "metadata": {
        "id": "qaZUGHA4Avyd",
        "colab_type": "code",
        "colab": {}
      },
      "source": [
        "# Defines the loss function to be optimized.\n",
        "def transform_points(target_points, quaternion_variable, translation_variable):\n",
        "  return quaternion.rotate(target_points,\n",
        "                           quaternion_variable) + translation_variable"
      ],
      "execution_count": 0,
      "outputs": []
    },
    {
      "cell_type": "code",
      "metadata": {
        "id": "_t4vweefA0Mp",
        "colab_type": "code",
        "colab": {}
      },
      "source": [
        "class Viewer(object):\n",
        "\n",
        "  def __init__(self, my_vertices):\n",
        "    my_vertices = np.asarray(my_vertices)\n",
        "    context = threejs_visualization.build_context()\n",
        "    light1 = context.THREE.PointLight.new_object(0x808080)\n",
        "    light1.position.set(10., 10., 10.)\n",
        "    light2 = context.THREE.AmbientLight.new_object(0x808080)\n",
        "    lights = (light1, light2)\n",
        "\n",
        "    material = context.THREE.MeshLambertMaterial.new_object({\n",
        "        'color': 0x3D85C6,\n",
        "    })\n",
        "\n",
        "    material_deformed = context.THREE.MeshLambertMaterial.new_object({\n",
        "        'color': 0xE06666,\n",
        "    })\n",
        "\n",
        "    camera = threejs_visualization.build_perspective_camera(\n",
        "        field_of_view=30, position=(10.0, 10.0, 10.0))\n",
        "\n",
        "    mesh = {'vertices': vertices, 'faces': faces, 'material': material}\n",
        "    transformed_mesh = {\n",
        "        'vertices': my_vertices,\n",
        "        'faces': faces,\n",
        "        'material': material_deformed\n",
        "    }\n",
        "    geometries = threejs_visualization.triangular_mesh_renderer(\n",
        "        #[mesh, transformed_mesh],\n",
        "        [transformed_mesh],\n",
        "        lights=lights,\n",
        "        camera=camera,\n",
        "        width=200,\n",
        "        height=200)\n",
        "\n",
        "    self.geometries = geometries\n",
        "\n",
        "  def update(self, transformed_points):\n",
        "    self.geometries[1].getAttribute('position').copyArray(\n",
        "        transformed_points.numpy().ravel().tolist())\n",
        "    self.geometries[1].getAttribute('position').needsUpdate = True"
      ],
      "execution_count": 0,
      "outputs": []
    },
    {
      "cell_type": "code",
      "metadata": {
        "id": "l3FhoM1KA4nV",
        "colab_type": "code",
        "colab": {}
      },
      "source": [
        "def get_random_transform():\n",
        "  # Forms a random translation\n",
        "  with tf.name_scope('translation_variable'):\n",
        "    random_translation = tf.Variable(\n",
        "        np.random.uniform(-2.0, 2.0, (3,)), dtype=tf.float32)\n",
        "\n",
        "  # Forms a random quaternion\n",
        "  hi = np.pi\n",
        "  lo = -hi\n",
        "  random_angles = np.random.uniform(lo, hi, (3,)).astype(np.float32)\n",
        "  with tf.name_scope('rotation_variable'):\n",
        "    random_quaternion = tf.Variable(quaternion.from_euler(random_angles))\n",
        "\n",
        "  return random_quaternion, random_translation\n"
      ],
      "execution_count": 0,
      "outputs": []
    },
    {
      "cell_type": "code",
      "metadata": {
        "id": "pkfE6-zPA-zQ",
        "colab_type": "code",
        "outputId": "80798a5b-58da-4d2a-91dd-5242a86dbbd3",
        "colab": {
          "base_uri": "https://localhost:8080/",
          "height": 221
        }
      },
      "source": [
        "random_quaternion, random_translation = get_random_transform()\n",
        "\n",
        "initial_orientation = transform_points(vertices, random_quaternion,\n",
        "                                       random_translation).numpy()\n",
        "viewer = Viewer(initial_orientation)\n",
        "ver()\n",
        "\n",
        "predicted_transformation = model.predict(initial_orientation[tf.newaxis, :, :])\n",
        "\n",
        "predicted_inverse_q = quaternion.inverse(predicted_transformation[0, 0:4])\n",
        "predicted_inverse_t = -predicted_transformation[0, 4:]\n",
        "\n",
        "predicted_aligned = quaternion.rotate(initial_orientation + predicted_inverse_t,\n",
        "                                      predicted_inverse_q)\n",
        "\n",
        "viewer = Viewer(predicted_aligned)"
      ],
      "execution_count": 22,
      "outputs": [
        {
          "output_type": "display_data",
          "data": {
            "text/html": [
              "<script src='https://www.gstatic.com/external_hosted/threejs-r98/three.min.js'></script>"
            ],
            "text/plain": [
              "<IPython.core.display.HTML object>"
            ]
          },
          "metadata": {
            "tags": []
          }
        },
        {
          "output_type": "display_data",
          "data": {
            "text/html": [
              "<script src='https://www.gstatic.com/external_hosted/threejs-r98/examples/js/controls/OrbitControls.js'></script>"
            ],
            "text/plain": [
              "<IPython.core.display.HTML object>"
            ]
          },
          "metadata": {
            "tags": []
          }
        },
        {
          "output_type": "display_data",
          "data": {
            "application/javascript": [
              "window[\"96866f2e-7814-11e9-b239-0242ac1c0002\"] = new THREE.PointLight(8421504);\n",
              "//# sourceURL=js_e6b27f7283"
            ],
            "text/plain": [
              "<IPython.core.display.Javascript object>"
            ]
          },
          "metadata": {
            "tags": []
          }
        },
        {
          "output_type": "display_data",
          "data": {
            "application/javascript": [
              "window[\"9686bd08-7814-11e9-b239-0242ac1c0002\"] = window[\"96866f2e-7814-11e9-b239-0242ac1c0002\"].position.set(10.0, 10.0, 10.0);\n",
              "//# sourceURL=js_f309861182"
            ],
            "text/plain": [
              "<IPython.core.display.Javascript object>"
            ]
          },
          "metadata": {
            "tags": []
          }
        },
        {
          "output_type": "display_data",
          "data": {
            "application/javascript": [
              "window[\"96872cde-7814-11e9-b239-0242ac1c0002\"] = new THREE.AmbientLight(8421504);\n",
              "//# sourceURL=js_4cf5659216"
            ],
            "text/plain": [
              "<IPython.core.display.Javascript object>"
            ]
          },
          "metadata": {
            "tags": []
          }
        },
        {
          "output_type": "display_data",
          "data": {
            "application/javascript": [
              "window[\"9687ad3a-7814-11e9-b239-0242ac1c0002\"] = new THREE.MeshLambertMaterial({\"color\": 4031942});\n",
              "//# sourceURL=js_ba730f09c9"
            ],
            "text/plain": [
              "<IPython.core.display.Javascript object>"
            ]
          },
          "metadata": {
            "tags": []
          }
        },
        {
          "output_type": "display_data",
          "data": {
            "application/javascript": [
              "window[\"9688bdb0-7814-11e9-b239-0242ac1c0002\"] = new THREE.MeshLambertMaterial({\"color\": 14706278});\n",
              "//# sourceURL=js_bcd45cf399"
            ],
            "text/plain": [
              "<IPython.core.display.Javascript object>"
            ]
          },
          "metadata": {
            "tags": []
          }
        },
        {
          "output_type": "display_data",
          "data": {
            "text/html": [
              "<script src='https://www.gstatic.com/external_hosted/threejs-r98/three.min.js'></script>"
            ],
            "text/plain": [
              "<IPython.core.display.HTML object>"
            ]
          },
          "metadata": {
            "tags": []
          }
        },
        {
          "output_type": "display_data",
          "data": {
            "text/html": [
              "<script src='https://www.gstatic.com/external_hosted/threejs-r98/examples/js/controls/OrbitControls.js'></script>"
            ],
            "text/plain": [
              "<IPython.core.display.HTML object>"
            ]
          },
          "metadata": {
            "tags": []
          }
        },
        {
          "output_type": "display_data",
          "data": {
            "application/javascript": [
              "window[\"9689b5ee-7814-11e9-b239-0242ac1c0002\"] = new THREE.PerspectiveCamera(30, 1.0, 0.01, 1000.0);\n",
              "//# sourceURL=js_050704f1bf"
            ],
            "text/plain": [
              "<IPython.core.display.Javascript object>"
            ]
          },
          "metadata": {
            "tags": []
          }
        },
        {
          "output_type": "display_data",
          "data": {
            "application/javascript": [
              "window[\"9689fcca-7814-11e9-b239-0242ac1c0002\"] = window[\"9689b5ee-7814-11e9-b239-0242ac1c0002\"].position.set(10.0, 10.0, 10.0);\n",
              "//# sourceURL=js_390e3ec356"
            ],
            "text/plain": [
              "<IPython.core.display.Javascript object>"
            ]
          },
          "metadata": {
            "tags": []
          }
        },
        {
          "output_type": "display_data",
          "data": {
            "application/javascript": [
              "window[\"968a400e-7814-11e9-b239-0242ac1c0002\"] = new THREE.OrbitControls(window[\"9689b5ee-7814-11e9-b239-0242ac1c0002\"]);\n",
              "//# sourceURL=js_f4404de9ed"
            ],
            "text/plain": [
              "<IPython.core.display.Javascript object>"
            ]
          },
          "metadata": {
            "tags": []
          }
        },
        {
          "output_type": "display_data",
          "data": {
            "application/javascript": [
              "window[\"968a400e-7814-11e9-b239-0242ac1c0002\"].enableZoom = false;\n",
              "//# sourceURL=js_079859c8a4"
            ],
            "text/plain": [
              "<IPython.core.display.Javascript object>"
            ]
          },
          "metadata": {
            "tags": []
          }
        },
        {
          "output_type": "display_data",
          "data": {
            "text/html": [
              "<script src='https://www.gstatic.com/external_hosted/threejs-r98/three.min.js'></script>"
            ],
            "text/plain": [
              "<IPython.core.display.HTML object>"
            ]
          },
          "metadata": {
            "tags": []
          }
        },
        {
          "output_type": "display_data",
          "data": {
            "text/html": [
              "<script src='https://www.gstatic.com/external_hosted/threejs-r98/examples/js/controls/OrbitControls.js'></script>"
            ],
            "text/plain": [
              "<IPython.core.display.HTML object>"
            ]
          },
          "metadata": {
            "tags": []
          }
        },
        {
          "output_type": "display_data",
          "data": {
            "application/javascript": [
              "window[\"968b279e-7814-11e9-b239-0242ac1c0002\"] = new THREE.WebGLRenderer({\"antialias\": true});\n",
              "//# sourceURL=js_495e5c1289"
            ],
            "text/plain": [
              "<IPython.core.display.Javascript object>"
            ]
          },
          "metadata": {
            "tags": []
          }
        },
        {
          "output_type": "display_data",
          "data": {
            "application/javascript": [
              "window[\"968bedfa-7814-11e9-b239-0242ac1c0002\"] = window[\"968b279e-7814-11e9-b239-0242ac1c0002\"].setSize(200, 200);\n",
              "//# sourceURL=js_b4a5cde404"
            ],
            "text/plain": [
              "<IPython.core.display.Javascript object>"
            ]
          },
          "metadata": {
            "tags": []
          }
        },
        {
          "output_type": "display_data",
          "data": {
            "application/javascript": [
              "window[\"968c4f7a-7814-11e9-b239-0242ac1c0002\"] = new THREE.Color(\"rgb(0, 0, 0)\");\n",
              "//# sourceURL=js_3697bf70df"
            ],
            "text/plain": [
              "<IPython.core.display.Javascript object>"
            ]
          },
          "metadata": {
            "tags": []
          }
        },
        {
          "output_type": "display_data",
          "data": {
            "application/javascript": [
              "window[\"968cb32a-7814-11e9-b239-0242ac1c0002\"] = window[\"968b279e-7814-11e9-b239-0242ac1c0002\"].setClearColor(window[\"968c4f7a-7814-11e9-b239-0242ac1c0002\"]);\n",
              "//# sourceURL=js_2361da5855"
            ],
            "text/plain": [
              "<IPython.core.display.Javascript object>"
            ]
          },
          "metadata": {
            "tags": []
          }
        },
        {
          "output_type": "display_data",
          "data": {
            "application/javascript": [
              "window[\"968d1540-7814-11e9-b239-0242ac1c0002\"] = window[\"968b279e-7814-11e9-b239-0242ac1c0002\"].clear();\n",
              "//# sourceURL=js_44dd67ddcb"
            ],
            "text/plain": [
              "<IPython.core.display.Javascript object>"
            ]
          },
          "metadata": {
            "tags": []
          }
        },
        {
          "output_type": "display_data",
          "data": {
            "application/javascript": [
              "window[\"968d70f8-7814-11e9-b239-0242ac1c0002\"] = document.body.appendChild(window[\"968b279e-7814-11e9-b239-0242ac1c0002\"].domElement);\n",
              "//# sourceURL=js_1b792a4a21"
            ],
            "text/plain": [
              "<IPython.core.display.Javascript object>"
            ]
          },
          "metadata": {
            "tags": []
          }
        },
        {
          "output_type": "display_data",
          "data": {
            "application/javascript": [
              "window[\"968dc080-7814-11e9-b239-0242ac1c0002\"] = new THREE.Scene();\n",
              "//# sourceURL=js_41e00a930e"
            ],
            "text/plain": [
              "<IPython.core.display.Javascript object>"
            ]
          },
          "metadata": {
            "tags": []
          }
        },
        {
          "output_type": "display_data",
          "data": {
            "application/javascript": [
              "window[\"968e0504-7814-11e9-b239-0242ac1c0002\"] = window[\"968dc080-7814-11e9-b239-0242ac1c0002\"].add(window[\"96866f2e-7814-11e9-b239-0242ac1c0002\"]);\n",
              "//# sourceURL=js_a486c80147"
            ],
            "text/plain": [
              "<IPython.core.display.Javascript object>"
            ]
          },
          "metadata": {
            "tags": []
          }
        },
        {
          "output_type": "display_data",
          "data": {
            "application/javascript": [
              "window[\"968e4302-7814-11e9-b239-0242ac1c0002\"] = window[\"968dc080-7814-11e9-b239-0242ac1c0002\"].add(window[\"96872cde-7814-11e9-b239-0242ac1c0002\"]);\n",
              "//# sourceURL=js_bd6f2fe80f"
            ],
            "text/plain": [
              "<IPython.core.display.Javascript object>"
            ]
          },
          "metadata": {
            "tags": []
          }
        },
        {
          "output_type": "display_data",
          "data": {
            "application/javascript": [
              "window[\"968e89de-7814-11e9-b239-0242ac1c0002\"] = new THREE.MeshLambertMaterial({\"color\": 8421504});\n",
              "//# sourceURL=js_7ddd66383e"
            ],
            "text/plain": [
              "<IPython.core.display.Javascript object>"
            ]
          },
          "metadata": {
            "tags": []
          }
        },
        {
          "output_type": "display_data",
          "data": {
            "application/javascript": [
              "window[\"968e89de-7814-11e9-b239-0242ac1c0002\"][\"vertexColors\"] = THREE.NoColors;\n",
              "//# sourceURL=js_c3f995bb88"
            ],
            "text/plain": [
              "<IPython.core.display.Javascript object>"
            ]
          },
          "metadata": {
            "tags": []
          }
        },
        {
          "output_type": "display_data",
          "data": {
            "application/javascript": [
              "window[\"968f04f4-7814-11e9-b239-0242ac1c0002\"] = new Float32Array([-1.826695442199707, -1.5324695110321045, -1.4671010971069336, -1.4976773262023926, -0.5882656574249268, -1.4821572303771973, -1.6944191455841064, -1.5638041496276855, -0.5415626168251038, -1.365401268005371, -0.6196005344390869, -0.5566185712814331, -0.9794595837593079, -1.8252190351486206, -1.3116554021835327, -0.6504417061805725, -0.8810153603553772, -1.3267114162445068, -0.7789860367774963, -1.8817323446273804, -0.47483062744140625, -0.44996821880340576, -0.9375286102294922, -0.4898865222930908, -1.6734271049499512, -1.598976492881775, -2.288583278656006, -1.344409465789795, -0.6547728776931763, -2.3036391735076904, -0.4122893810272217, -0.9774056673049927, -2.1672861576080322, -0.7413070797920227, -1.9216094017028809, -2.1522300243377686, -1.3605644702911377, -1.7181999683380127, -2.9284603595733643, -1.0315465927124023, -0.7739964127540588, -2.943516492843628, -0.2658378481864929, -1.0404441356658936, -2.9202141761779785, -0.5948556065559387, -1.9846479892730713, -2.905158281326294, 0.1543004810810089, -1.1710216999053955, -1.9278308153152466, -0.17471733689308167, -2.115225315093994, -1.9127748012542725, 0.050328001379966736, -2.2072622776031494, -2.7667603492736816, 0.3793458342552185, -1.2630584239959717, -2.7818164825439453, 0.8830676078796387, -1.4233417510986328, -1.8258246183395386, 0.5540497303009033, -2.3675453662872314, -1.8107686042785645, 0.6020588278770447, -2.3950068950653076, -2.4838151931762695, 0.93107670545578, -1.4508031606674194, -2.498871088027954, -0.0008751451969146729, -1.104707956314087, -1.1601618528366089, -0.32989299297332764, -2.0489115715026855, -1.1451058387756348, 0.4810657501220703, -2.3274102210998535, -0.8886978626251221, 0.8100835680961609, -1.3832066059112549, -0.9037538766860962, 0.1123543381690979, -1.1328916549682617, -0.45324158668518066, -0.2166634500026703, -2.0770952701568604, -0.4381856918334961, 0.24786120653152466, -2.234682083129883, -0.16966640949249268, 0.5768789649009705, -1.2904784679412842, -0.18472254276275635, 0.9338245987892151, -2.4836301803588867, -0.7915768623352051, 1.2628424167633057, -1.539426565170288, -0.8066328763961792, 1.24550199508667, -1.521180272102356, -0.04129672050476074, 0.9164840579032898, -2.465384006500244, -0.02624058723449707, 1.6802055835723877, -2.7428109645843506, -0.7349157333374023, 2.009223222732544, -1.798607349395752, -0.7499716877937317, 1.7803733348846436, -1.7082382440567017, -0.08371567726135254, 1.4513554573059082, -2.65244197845459, -0.06865978240966797, 1.2301013469696045, -2.599107265472412, -1.5589416027069092, 1.5591192245483398, -1.6549036502838135, -1.5739976167678833, 2.173003911972046, -1.8696762323379517, -1.6278001070022583, 1.8439862728118896, -2.8138797283172607, -1.6127440929412842, 1.1145122051239014, -2.5679478645324707, -2.1308200359344482, 1.4435298442840576, -1.623744249343872, -2.145876169204712, 2.0529496669769287, -1.8379546403884888, -2.2619895935058594, 1.7239317893981934, -2.782158374786377, -2.2469334602355957]);\n",
              "//# sourceURL=js_3c78ed582f"
            ],
            "text/plain": [
              "<IPython.core.display.Javascript object>"
            ]
          },
          "metadata": {
            "tags": []
          }
        },
        {
          "output_type": "display_data",
          "data": {
            "application/javascript": [
              "window[\"968f46bc-7814-11e9-b239-0242ac1c0002\"] = new Uint32Array([0.0, 2.0, 3.0, 3.0, 1.0, 0.0, 4.0, 5.0, 7.0, 7.0, 6.0, 4.0, 12.0, 13.0, 14.0, 14.0, 15.0, 12.0, 1.0, 3.0, 7.0, 7.0, 5.0, 1.0, 3.0, 2.0, 6.0, 6.0, 7.0, 3.0, 2.0, 0.0, 4.0, 4.0, 6.0, 2.0, 0.0, 1.0, 9.0, 9.0, 8.0, 0.0, 1.0, 5.0, 10.0, 10.0, 9.0, 1.0, 5.0, 4.0, 11.0, 11.0, 10.0, 5.0, 4.0, 0.0, 8.0, 8.0, 11.0, 4.0, 8.0, 9.0, 13.0, 13.0, 12.0, 8.0, 9.0, 10.0, 14.0, 14.0, 13.0, 9.0, 20.0, 21.0, 22.0, 22.0, 23.0, 20.0, 11.0, 8.0, 12.0, 12.0, 15.0, 11.0, 10.0, 11.0, 17.0, 17.0, 16.0, 10.0, 11.0, 15.0, 18.0, 18.0, 17.0, 11.0, 15.0, 14.0, 19.0, 19.0, 18.0, 15.0, 14.0, 10.0, 16.0, 16.0, 19.0, 14.0, 28.0, 29.0, 30.0, 30.0, 31.0, 28.0, 17.0, 18.0, 22.0, 22.0, 21.0, 17.0, 18.0, 19.0, 23.0, 23.0, 22.0, 18.0, 19.0, 16.0, 20.0, 20.0, 23.0, 19.0, 16.0, 17.0, 25.0, 25.0, 24.0, 16.0, 17.0, 21.0, 26.0, 26.0, 25.0, 17.0, 21.0, 20.0, 27.0, 27.0, 26.0, 21.0, 20.0, 16.0, 24.0, 24.0, 27.0, 20.0, 24.0, 25.0, 29.0, 29.0, 28.0, 24.0, 25.0, 26.0, 30.0, 30.0, 29.0, 25.0, 36.0, 37.0, 38.0, 38.0, 39.0, 36.0, 27.0, 24.0, 28.0, 28.0, 31.0, 27.0, 26.0, 27.0, 33.0, 33.0, 32.0, 26.0, 27.0, 31.0, 34.0, 34.0, 33.0, 27.0, 31.0, 30.0, 35.0, 35.0, 34.0, 31.0, 30.0, 26.0, 32.0, 32.0, 35.0, 30.0, 44.0, 45.0, 46.0, 46.0, 47.0, 44.0, 33.0, 34.0, 38.0, 38.0, 37.0, 33.0, 34.0, 35.0, 39.0, 39.0, 38.0, 34.0, 35.0, 32.0, 36.0, 36.0, 39.0, 35.0, 32.0, 33.0, 41.0, 41.0, 40.0, 32.0, 33.0, 37.0, 42.0, 42.0, 41.0, 33.0, 37.0, 36.0, 43.0, 43.0, 42.0, 37.0, 36.0, 32.0, 40.0, 40.0, 43.0, 36.0, 40.0, 41.0, 45.0, 45.0, 44.0, 40.0, 41.0, 42.0, 46.0, 46.0, 45.0, 41.0, 42.0, 43.0, 47.0, 47.0, 46.0, 42.0, 43.0, 40.0, 44.0, 44.0, 47.0, 43.0]);\n",
              "//# sourceURL=js_d146ae7a6b"
            ],
            "text/plain": [
              "<IPython.core.display.Javascript object>"
            ]
          },
          "metadata": {
            "tags": []
          }
        },
        {
          "output_type": "display_data",
          "data": {
            "application/javascript": [
              "window[\"968f8398-7814-11e9-b239-0242ac1c0002\"] = new THREE.BufferGeometry();\n",
              "//# sourceURL=js_f5d4e9c643"
            ],
            "text/plain": [
              "<IPython.core.display.Javascript object>"
            ]
          },
          "metadata": {
            "tags": []
          }
        },
        {
          "output_type": "display_data",
          "data": {
            "application/javascript": [
              "window[\"968fcad8-7814-11e9-b239-0242ac1c0002\"] = new THREE.BufferAttribute(window[\"968f04f4-7814-11e9-b239-0242ac1c0002\"], 3);\n",
              "//# sourceURL=js_e172eed047"
            ],
            "text/plain": [
              "<IPython.core.display.Javascript object>"
            ]
          },
          "metadata": {
            "tags": []
          }
        },
        {
          "output_type": "display_data",
          "data": {
            "application/javascript": [
              "window[\"9690044e-7814-11e9-b239-0242ac1c0002\"] = window[\"968f8398-7814-11e9-b239-0242ac1c0002\"].addAttribute(\"position\", window[\"968fcad8-7814-11e9-b239-0242ac1c0002\"]);\n",
              "//# sourceURL=js_e4548f37ee"
            ],
            "text/plain": [
              "<IPython.core.display.Javascript object>"
            ]
          },
          "metadata": {
            "tags": []
          }
        },
        {
          "output_type": "display_data",
          "data": {
            "application/javascript": [
              "window[\"96903f86-7814-11e9-b239-0242ac1c0002\"] = new THREE.BufferAttribute(window[\"968f46bc-7814-11e9-b239-0242ac1c0002\"], 1);\n",
              "//# sourceURL=js_6fc06ce16f"
            ],
            "text/plain": [
              "<IPython.core.display.Javascript object>"
            ]
          },
          "metadata": {
            "tags": []
          }
        },
        {
          "output_type": "display_data",
          "data": {
            "application/javascript": [
              "window[\"96907ab4-7814-11e9-b239-0242ac1c0002\"] = window[\"968f8398-7814-11e9-b239-0242ac1c0002\"].setIndex(window[\"96903f86-7814-11e9-b239-0242ac1c0002\"]);\n",
              "//# sourceURL=js_a70f5c0b2a"
            ],
            "text/plain": [
              "<IPython.core.display.Javascript object>"
            ]
          },
          "metadata": {
            "tags": []
          }
        },
        {
          "output_type": "display_data",
          "data": {
            "application/javascript": [
              "window[\"9690b63c-7814-11e9-b239-0242ac1c0002\"] = window[\"968f8398-7814-11e9-b239-0242ac1c0002\"].computeVertexNormals();\n",
              "//# sourceURL=js_5aa79eb4a8"
            ],
            "text/plain": [
              "<IPython.core.display.Javascript object>"
            ]
          },
          "metadata": {
            "tags": []
          }
        },
        {
          "output_type": "display_data",
          "data": {
            "application/javascript": [
              "window[\"9690f8c2-7814-11e9-b239-0242ac1c0002\"] = new THREE.Mesh(window[\"968f8398-7814-11e9-b239-0242ac1c0002\"], window[\"9688bdb0-7814-11e9-b239-0242ac1c0002\"]);\n",
              "//# sourceURL=js_e4930b1238"
            ],
            "text/plain": [
              "<IPython.core.display.Javascript object>"
            ]
          },
          "metadata": {
            "tags": []
          }
        },
        {
          "output_type": "display_data",
          "data": {
            "application/javascript": [
              "window[\"96913472-7814-11e9-b239-0242ac1c0002\"] = window[\"968dc080-7814-11e9-b239-0242ac1c0002\"].add(window[\"9690f8c2-7814-11e9-b239-0242ac1c0002\"]);\n",
              "//# sourceURL=js_572b1c0d93"
            ],
            "text/plain": [
              "<IPython.core.display.Javascript object>"
            ]
          },
          "metadata": {
            "tags": []
          }
        },
        {
          "output_type": "display_data",
          "data": {
            "text/html": [
              "<script src='https://www.gstatic.com/external_hosted/threejs-r98/three.min.js'></script>"
            ],
            "text/plain": [
              "<IPython.core.display.HTML object>"
            ]
          },
          "metadata": {
            "tags": []
          }
        },
        {
          "output_type": "display_data",
          "data": {
            "text/html": [
              "<script src='https://www.gstatic.com/external_hosted/threejs-r98/examples/js/controls/OrbitControls.js'></script>"
            ],
            "text/plain": [
              "<IPython.core.display.HTML object>"
            ]
          },
          "metadata": {
            "tags": []
          }
        },
        {
          "output_type": "display_data",
          "data": {
            "application/javascript": [
              "window[\"974a5574-7814-11e9-b239-0242ac1c0002\"] = new THREE.PointLight(14366776);\n",
              "//# sourceURL=js_d8a4d3964d"
            ],
            "text/plain": [
              "<IPython.core.display.Javascript object>"
            ]
          },
          "metadata": {
            "tags": []
          }
        },
        {
          "output_type": "display_data",
          "data": {
            "application/javascript": [
              "window[\"974ab028-7814-11e9-b239-0242ac1c0002\"] = window[\"974a5574-7814-11e9-b239-0242ac1c0002\"].position.set(50.0, 10.0, 10.0);\n",
              "//# sourceURL=js_67941f8d35"
            ],
            "text/plain": [
              "<IPython.core.display.Javascript object>"
            ]
          },
          "metadata": {
            "tags": []
          }
        },
        {
          "output_type": "display_data",
          "data": {
            "application/javascript": [
              "window[\"974afe8e-7814-11e9-b239-0242ac1c0002\"] = new THREE.AmbientLight(6989903);\n",
              "//# sourceURL=js_dede357703"
            ],
            "text/plain": [
              "<IPython.core.display.Javascript object>"
            ]
          },
          "metadata": {
            "tags": []
          }
        },
        {
          "output_type": "display_data",
          "data": {
            "application/javascript": [
              "window[\"974b4cfe-7814-11e9-b239-0242ac1c0002\"] = window[\"974afe8e-7814-11e9-b239-0242ac1c0002\"].position.set(-50.0, 10.0, 10.0);\n",
              "//# sourceURL=js_cad7fb4d69"
            ],
            "text/plain": [
              "<IPython.core.display.Javascript object>"
            ]
          },
          "metadata": {
            "tags": []
          }
        },
        {
          "output_type": "display_data",
          "data": {
            "application/javascript": [
              "window[\"974bb874-7814-11e9-b239-0242ac1c0002\"] = new THREE.MeshPhongMaterial({\"color\": 13421772, \"dithering\": true});\n",
              "//# sourceURL=js_99458760f8"
            ],
            "text/plain": [
              "<IPython.core.display.Javascript object>"
            ]
          },
          "metadata": {
            "tags": []
          }
        },
        {
          "output_type": "display_data",
          "data": {
            "text/html": [
              "<script src='https://www.gstatic.com/external_hosted/threejs-r98/three.min.js'></script>"
            ],
            "text/plain": [
              "<IPython.core.display.HTML object>"
            ]
          },
          "metadata": {
            "tags": []
          }
        },
        {
          "output_type": "display_data",
          "data": {
            "text/html": [
              "<script src='https://www.gstatic.com/external_hosted/threejs-r98/examples/js/controls/OrbitControls.js'></script>"
            ],
            "text/plain": [
              "<IPython.core.display.HTML object>"
            ]
          },
          "metadata": {
            "tags": []
          }
        },
        {
          "output_type": "display_data",
          "data": {
            "application/javascript": [
              "window[\"974d4f5e-7814-11e9-b239-0242ac1c0002\"] = new THREE.PerspectiveCamera(30, 1.0, 0.01, 1000.0);\n",
              "//# sourceURL=js_cffcf0ebf5"
            ],
            "text/plain": [
              "<IPython.core.display.Javascript object>"
            ]
          },
          "metadata": {
            "tags": []
          }
        },
        {
          "output_type": "display_data",
          "data": {
            "application/javascript": [
              "window[\"974dc074-7814-11e9-b239-0242ac1c0002\"] = window[\"974d4f5e-7814-11e9-b239-0242ac1c0002\"].position.set(10.0, 10.0, 10.0);\n",
              "//# sourceURL=js_6947b09969"
            ],
            "text/plain": [
              "<IPython.core.display.Javascript object>"
            ]
          },
          "metadata": {
            "tags": []
          }
        },
        {
          "output_type": "display_data",
          "data": {
            "application/javascript": [
              "window[\"974e0fe8-7814-11e9-b239-0242ac1c0002\"] = new THREE.OrbitControls(window[\"974d4f5e-7814-11e9-b239-0242ac1c0002\"]);\n",
              "//# sourceURL=js_6d30848b36"
            ],
            "text/plain": [
              "<IPython.core.display.Javascript object>"
            ]
          },
          "metadata": {
            "tags": []
          }
        },
        {
          "output_type": "display_data",
          "data": {
            "application/javascript": [
              "window[\"974e0fe8-7814-11e9-b239-0242ac1c0002\"].enableZoom = false;\n",
              "//# sourceURL=js_3ccf9b7068"
            ],
            "text/plain": [
              "<IPython.core.display.Javascript object>"
            ]
          },
          "metadata": {
            "tags": []
          }
        },
        {
          "output_type": "display_data",
          "data": {
            "text/html": [
              "<script src='https://www.gstatic.com/external_hosted/threejs-r98/three.min.js'></script>"
            ],
            "text/plain": [
              "<IPython.core.display.HTML object>"
            ]
          },
          "metadata": {
            "tags": []
          }
        },
        {
          "output_type": "display_data",
          "data": {
            "text/html": [
              "<script src='https://www.gstatic.com/external_hosted/threejs-r98/examples/js/controls/OrbitControls.js'></script>"
            ],
            "text/plain": [
              "<IPython.core.display.HTML object>"
            ]
          },
          "metadata": {
            "tags": []
          }
        },
        {
          "output_type": "display_data",
          "data": {
            "application/javascript": [
              "window[\"974f5970-7814-11e9-b239-0242ac1c0002\"] = new THREE.WebGLRenderer({\"antialias\": true});\n",
              "//# sourceURL=js_c82a1dc015"
            ],
            "text/plain": [
              "<IPython.core.display.Javascript object>"
            ]
          },
          "metadata": {
            "tags": []
          }
        },
        {
          "output_type": "display_data",
          "data": {
            "application/javascript": [
              "window[\"974fb7bc-7814-11e9-b239-0242ac1c0002\"] = window[\"974f5970-7814-11e9-b239-0242ac1c0002\"].setSize(200, 200);\n",
              "//# sourceURL=js_3fa30664d9"
            ],
            "text/plain": [
              "<IPython.core.display.Javascript object>"
            ]
          },
          "metadata": {
            "tags": []
          }
        },
        {
          "output_type": "display_data",
          "data": {
            "application/javascript": [
              "window[\"97500fd2-7814-11e9-b239-0242ac1c0002\"] = new THREE.Color(\"rgb(0, 0, 0)\");\n",
              "//# sourceURL=js_99b756df96"
            ],
            "text/plain": [
              "<IPython.core.display.Javascript object>"
            ]
          },
          "metadata": {
            "tags": []
          }
        },
        {
          "output_type": "display_data",
          "data": {
            "application/javascript": [
              "window[\"975061bc-7814-11e9-b239-0242ac1c0002\"] = window[\"974f5970-7814-11e9-b239-0242ac1c0002\"].setClearColor(window[\"97500fd2-7814-11e9-b239-0242ac1c0002\"]);\n",
              "//# sourceURL=js_439457bdf8"
            ],
            "text/plain": [
              "<IPython.core.display.Javascript object>"
            ]
          },
          "metadata": {
            "tags": []
          }
        },
        {
          "output_type": "display_data",
          "data": {
            "application/javascript": [
              "window[\"9750c904-7814-11e9-b239-0242ac1c0002\"] = window[\"974f5970-7814-11e9-b239-0242ac1c0002\"].clear();\n",
              "//# sourceURL=js_16eb19e135"
            ],
            "text/plain": [
              "<IPython.core.display.Javascript object>"
            ]
          },
          "metadata": {
            "tags": []
          }
        },
        {
          "output_type": "display_data",
          "data": {
            "application/javascript": [
              "window[\"9751203e-7814-11e9-b239-0242ac1c0002\"] = document.body.appendChild(window[\"974f5970-7814-11e9-b239-0242ac1c0002\"].domElement);\n",
              "//# sourceURL=js_cab5db7129"
            ],
            "text/plain": [
              "<IPython.core.display.Javascript object>"
            ]
          },
          "metadata": {
            "tags": []
          }
        },
        {
          "output_type": "display_data",
          "data": {
            "application/javascript": [
              "window[\"97515c70-7814-11e9-b239-0242ac1c0002\"] = new THREE.Scene();\n",
              "//# sourceURL=js_fd70b0b8d5"
            ],
            "text/plain": [
              "<IPython.core.display.Javascript object>"
            ]
          },
          "metadata": {
            "tags": []
          }
        },
        {
          "output_type": "display_data",
          "data": {
            "application/javascript": [
              "window[\"975193e8-7814-11e9-b239-0242ac1c0002\"] = window[\"97515c70-7814-11e9-b239-0242ac1c0002\"].add(window[\"974a5574-7814-11e9-b239-0242ac1c0002\"]);\n",
              "//# sourceURL=js_6d88cb78fb"
            ],
            "text/plain": [
              "<IPython.core.display.Javascript object>"
            ]
          },
          "metadata": {
            "tags": []
          }
        },
        {
          "output_type": "display_data",
          "data": {
            "application/javascript": [
              "window[\"9751d916-7814-11e9-b239-0242ac1c0002\"] = window[\"97515c70-7814-11e9-b239-0242ac1c0002\"].add(window[\"974afe8e-7814-11e9-b239-0242ac1c0002\"]);\n",
              "//# sourceURL=js_6be5fbb87a"
            ],
            "text/plain": [
              "<IPython.core.display.Javascript object>"
            ]
          },
          "metadata": {
            "tags": []
          }
        },
        {
          "output_type": "display_data",
          "data": {
            "application/javascript": [
              "window[\"97521746-7814-11e9-b239-0242ac1c0002\"] = new THREE.MeshLambertMaterial({\"color\": 8421504});\n",
              "//# sourceURL=js_74b29fc9db"
            ],
            "text/plain": [
              "<IPython.core.display.Javascript object>"
            ]
          },
          "metadata": {
            "tags": []
          }
        },
        {
          "output_type": "display_data",
          "data": {
            "application/javascript": [
              "window[\"97521746-7814-11e9-b239-0242ac1c0002\"][\"vertexColors\"] = THREE.NoColors;\n",
              "//# sourceURL=js_0fca88d85a"
            ],
            "text/plain": [
              "<IPython.core.display.Javascript object>"
            ]
          },
          "metadata": {
            "tags": []
          }
        },
        {
          "output_type": "display_data",
          "data": {
            "application/javascript": [
              "window[\"975281cc-7814-11e9-b239-0242ac1c0002\"] = new Float32Array([0.5, -1.8906999826431274, 0.39500001072883606, -0.5, -1.8906999826431274, 0.39500001072883606, 0.5, -1.5742000341415405, 1.2753000259399414, -0.5, -1.5742000341415405, 1.2753000259399414, 0.5, -0.9812999963760376, 0.3691999912261963, -0.5, -0.9812999963760376, 0.3691999912261963, 0.5, -0.6111999750137329, 1.1481000185012817, -0.5, -0.6111999750137329, 1.1481000185012817, 0.5, -1.8906999826431274, -0.4433000087738037, -0.5, -1.8906999826431274, -0.4433000087738037, -0.5, -0.8968999981880188, -0.5056999921798706, 0.5, -0.8968999981880188, -0.5056999921798706, 0.5, -1.6899000406265259, -1.1369999647140503, -0.5, -1.6899000406265259, -1.1369999647140503, -0.5, -0.8906999826431274, -1.2753000259399414, 0.5, -0.8906999826431274, -1.2753000259399414, -0.5, -0.26249998807907104, -0.38999998569488525, 0.5, -0.26249998807907104, -0.38999998569488525, 0.5, -0.19429999589920044, -1.2753000259399414, -0.5, -0.19429999589920044, -1.2753000259399414, -0.5, 0.5135999917984009, -0.4433000087738037, 0.5, 0.5135999917984009, -0.4433000087738037, 0.5, 0.43309998512268066, -1.113800048828125, -0.5, 0.43309998512268066, -1.113800048828125, -0.5, -0.27489998936653137, 0.39590001106262207, 0.5, -0.27489998936653137, 0.39590001106262207, 0.5, 0.6164000034332275, 0.47679999470710754, -0.5, 0.6164000034332275, 0.47679999470710754, -0.5, -0.020500000566244125, 1.0657000541687012, 0.5, -0.020500000566244125, 1.0657000541687012, 0.5, 0.5135999917984009, 1.2314000129699707, -0.5, 0.5135999917984009, 1.2314000129699707, 0.5, 1.1051000356674194, 0.47679999470710754, -0.5, 1.1051000356674194, 0.47679999470710754, -0.5, 1.2352999448776245, 1.2314000129699707, 0.5, 1.2352999448776245, 1.2314000129699707, 0.5, 1.8906999826431274, 0.37529999017715454, -0.5, 1.8906999826431274, 0.37529999017715454, -0.5, 1.7821999788284302, 1.0772000551223755, 0.5, 1.7821999788284302, 1.0772000551223755, 0.5, 1.2640000581741333, -0.3384999930858612, -0.5, 1.2640000581741333, -0.3384999930858612, -0.5, 1.8906999826431274, -0.5205000042915344, 0.5, 1.8906999826431274, -0.5205000042915344, 0.5, 1.0333000421524048, -0.8752999901771545, -0.5, 1.0333000421524048, -0.8752999901771545, -0.5, 1.6433000564575195, -1.1174999475479126, 0.5, 1.6433000564575195, -1.1174999475479126]);\n",
              "//# sourceURL=js_933530aa1a"
            ],
            "text/plain": [
              "<IPython.core.display.Javascript object>"
            ]
          },
          "metadata": {
            "tags": []
          }
        },
        {
          "output_type": "display_data",
          "data": {
            "application/javascript": [
              "window[\"9752ecca-7814-11e9-b239-0242ac1c0002\"] = new Uint32Array([0.0, 2.0, 3.0, 3.0, 1.0, 0.0, 4.0, 5.0, 7.0, 7.0, 6.0, 4.0, 12.0, 13.0, 14.0, 14.0, 15.0, 12.0, 1.0, 3.0, 7.0, 7.0, 5.0, 1.0, 3.0, 2.0, 6.0, 6.0, 7.0, 3.0, 2.0, 0.0, 4.0, 4.0, 6.0, 2.0, 0.0, 1.0, 9.0, 9.0, 8.0, 0.0, 1.0, 5.0, 10.0, 10.0, 9.0, 1.0, 5.0, 4.0, 11.0, 11.0, 10.0, 5.0, 4.0, 0.0, 8.0, 8.0, 11.0, 4.0, 8.0, 9.0, 13.0, 13.0, 12.0, 8.0, 9.0, 10.0, 14.0, 14.0, 13.0, 9.0, 20.0, 21.0, 22.0, 22.0, 23.0, 20.0, 11.0, 8.0, 12.0, 12.0, 15.0, 11.0, 10.0, 11.0, 17.0, 17.0, 16.0, 10.0, 11.0, 15.0, 18.0, 18.0, 17.0, 11.0, 15.0, 14.0, 19.0, 19.0, 18.0, 15.0, 14.0, 10.0, 16.0, 16.0, 19.0, 14.0, 28.0, 29.0, 30.0, 30.0, 31.0, 28.0, 17.0, 18.0, 22.0, 22.0, 21.0, 17.0, 18.0, 19.0, 23.0, 23.0, 22.0, 18.0, 19.0, 16.0, 20.0, 20.0, 23.0, 19.0, 16.0, 17.0, 25.0, 25.0, 24.0, 16.0, 17.0, 21.0, 26.0, 26.0, 25.0, 17.0, 21.0, 20.0, 27.0, 27.0, 26.0, 21.0, 20.0, 16.0, 24.0, 24.0, 27.0, 20.0, 24.0, 25.0, 29.0, 29.0, 28.0, 24.0, 25.0, 26.0, 30.0, 30.0, 29.0, 25.0, 36.0, 37.0, 38.0, 38.0, 39.0, 36.0, 27.0, 24.0, 28.0, 28.0, 31.0, 27.0, 26.0, 27.0, 33.0, 33.0, 32.0, 26.0, 27.0, 31.0, 34.0, 34.0, 33.0, 27.0, 31.0, 30.0, 35.0, 35.0, 34.0, 31.0, 30.0, 26.0, 32.0, 32.0, 35.0, 30.0, 44.0, 45.0, 46.0, 46.0, 47.0, 44.0, 33.0, 34.0, 38.0, 38.0, 37.0, 33.0, 34.0, 35.0, 39.0, 39.0, 38.0, 34.0, 35.0, 32.0, 36.0, 36.0, 39.0, 35.0, 32.0, 33.0, 41.0, 41.0, 40.0, 32.0, 33.0, 37.0, 42.0, 42.0, 41.0, 33.0, 37.0, 36.0, 43.0, 43.0, 42.0, 37.0, 36.0, 32.0, 40.0, 40.0, 43.0, 36.0, 40.0, 41.0, 45.0, 45.0, 44.0, 40.0, 41.0, 42.0, 46.0, 46.0, 45.0, 41.0, 42.0, 43.0, 47.0, 47.0, 46.0, 42.0, 43.0, 40.0, 44.0, 44.0, 47.0, 43.0]);\n",
              "//# sourceURL=js_9ea06aeb99"
            ],
            "text/plain": [
              "<IPython.core.display.Javascript object>"
            ]
          },
          "metadata": {
            "tags": []
          }
        },
        {
          "output_type": "display_data",
          "data": {
            "application/javascript": [
              "window[\"97533932-7814-11e9-b239-0242ac1c0002\"] = new THREE.BufferGeometry();\n",
              "//# sourceURL=js_ac8a8e1dd8"
            ],
            "text/plain": [
              "<IPython.core.display.Javascript object>"
            ]
          },
          "metadata": {
            "tags": []
          }
        },
        {
          "output_type": "display_data",
          "data": {
            "application/javascript": [
              "window[\"9753841e-7814-11e9-b239-0242ac1c0002\"] = new THREE.BufferAttribute(window[\"975281cc-7814-11e9-b239-0242ac1c0002\"], 3);\n",
              "//# sourceURL=js_4e40827e66"
            ],
            "text/plain": [
              "<IPython.core.display.Javascript object>"
            ]
          },
          "metadata": {
            "tags": []
          }
        },
        {
          "output_type": "display_data",
          "data": {
            "application/javascript": [
              "window[\"9753dea0-7814-11e9-b239-0242ac1c0002\"] = window[\"97533932-7814-11e9-b239-0242ac1c0002\"].addAttribute(\"position\", window[\"9753841e-7814-11e9-b239-0242ac1c0002\"]);\n",
              "//# sourceURL=js_a24de25998"
            ],
            "text/plain": [
              "<IPython.core.display.Javascript object>"
            ]
          },
          "metadata": {
            "tags": []
          }
        },
        {
          "output_type": "display_data",
          "data": {
            "application/javascript": [
              "window[\"97542900-7814-11e9-b239-0242ac1c0002\"] = new THREE.BufferAttribute(window[\"9752ecca-7814-11e9-b239-0242ac1c0002\"], 1);\n",
              "//# sourceURL=js_1c2b779d4e"
            ],
            "text/plain": [
              "<IPython.core.display.Javascript object>"
            ]
          },
          "metadata": {
            "tags": []
          }
        },
        {
          "output_type": "display_data",
          "data": {
            "application/javascript": [
              "window[\"9754707c-7814-11e9-b239-0242ac1c0002\"] = window[\"97533932-7814-11e9-b239-0242ac1c0002\"].setIndex(window[\"97542900-7814-11e9-b239-0242ac1c0002\"]);\n",
              "//# sourceURL=js_0e4c455c56"
            ],
            "text/plain": [
              "<IPython.core.display.Javascript object>"
            ]
          },
          "metadata": {
            "tags": []
          }
        },
        {
          "output_type": "display_data",
          "data": {
            "application/javascript": [
              "window[\"9754ba5a-7814-11e9-b239-0242ac1c0002\"] = window[\"97533932-7814-11e9-b239-0242ac1c0002\"].computeVertexNormals();\n",
              "//# sourceURL=js_1ec74a12d9"
            ],
            "text/plain": [
              "<IPython.core.display.Javascript object>"
            ]
          },
          "metadata": {
            "tags": []
          }
        },
        {
          "output_type": "display_data",
          "data": {
            "application/javascript": [
              "window[\"975514c8-7814-11e9-b239-0242ac1c0002\"] = new THREE.Mesh(window[\"97533932-7814-11e9-b239-0242ac1c0002\"], window[\"974bb874-7814-11e9-b239-0242ac1c0002\"]);\n",
              "//# sourceURL=js_4c7271b57a"
            ],
            "text/plain": [
              "<IPython.core.display.Javascript object>"
            ]
          },
          "metadata": {
            "tags": []
          }
        },
        {
          "output_type": "display_data",
          "data": {
            "application/javascript": [
              "window[\"97556202-7814-11e9-b239-0242ac1c0002\"] = window[\"97515c70-7814-11e9-b239-0242ac1c0002\"].add(window[\"975514c8-7814-11e9-b239-0242ac1c0002\"]);\n",
              "//# sourceURL=js_ce13c7cd5b"
            ],
            "text/plain": [
              "<IPython.core.display.Javascript object>"
            ]
          },
          "metadata": {
            "tags": []
          }
        },
        {
          "output_type": "display_data",
          "data": {
            "text/html": [
              "<script src='https://www.gstatic.com/external_hosted/threejs-r98/three.min.js'></script>"
            ],
            "text/plain": [
              "<IPython.core.display.HTML object>"
            ]
          },
          "metadata": {
            "tags": []
          }
        },
        {
          "output_type": "display_data",
          "data": {
            "text/html": [
              "<script src='https://www.gstatic.com/external_hosted/threejs-r98/examples/js/controls/OrbitControls.js'></script>"
            ],
            "text/plain": [
              "<IPython.core.display.HTML object>"
            ]
          },
          "metadata": {
            "tags": []
          }
        },
        {
          "output_type": "display_data",
          "data": {
            "application/javascript": [
              "window[\"981700ec-7814-11e9-b239-0242ac1c0002\"] = new THREE.PointLight(8421504);\n",
              "//# sourceURL=js_67b709d9ac"
            ],
            "text/plain": [
              "<IPython.core.display.Javascript object>"
            ]
          },
          "metadata": {
            "tags": []
          }
        },
        {
          "output_type": "display_data",
          "data": {
            "application/javascript": [
              "window[\"98173bd4-7814-11e9-b239-0242ac1c0002\"] = window[\"981700ec-7814-11e9-b239-0242ac1c0002\"].position.set(10.0, 10.0, 10.0);\n",
              "//# sourceURL=js_fe664831a9"
            ],
            "text/plain": [
              "<IPython.core.display.Javascript object>"
            ]
          },
          "metadata": {
            "tags": []
          }
        },
        {
          "output_type": "display_data",
          "data": {
            "application/javascript": [
              "window[\"9817c22a-7814-11e9-b239-0242ac1c0002\"] = new THREE.AmbientLight(8421504);\n",
              "//# sourceURL=js_1803ba90d1"
            ],
            "text/plain": [
              "<IPython.core.display.Javascript object>"
            ]
          },
          "metadata": {
            "tags": []
          }
        },
        {
          "output_type": "display_data",
          "data": {
            "application/javascript": [
              "window[\"9818113a-7814-11e9-b239-0242ac1c0002\"] = new THREE.MeshLambertMaterial({\"color\": 4031942});\n",
              "//# sourceURL=js_c7e4abbaff"
            ],
            "text/plain": [
              "<IPython.core.display.Javascript object>"
            ]
          },
          "metadata": {
            "tags": []
          }
        },
        {
          "output_type": "display_data",
          "data": {
            "application/javascript": [
              "window[\"98185744-7814-11e9-b239-0242ac1c0002\"] = new THREE.MeshLambertMaterial({\"color\": 14706278});\n",
              "//# sourceURL=js_82192ffd1d"
            ],
            "text/plain": [
              "<IPython.core.display.Javascript object>"
            ]
          },
          "metadata": {
            "tags": []
          }
        },
        {
          "output_type": "display_data",
          "data": {
            "text/html": [
              "<script src='https://www.gstatic.com/external_hosted/threejs-r98/three.min.js'></script>"
            ],
            "text/plain": [
              "<IPython.core.display.HTML object>"
            ]
          },
          "metadata": {
            "tags": []
          }
        },
        {
          "output_type": "display_data",
          "data": {
            "text/html": [
              "<script src='https://www.gstatic.com/external_hosted/threejs-r98/examples/js/controls/OrbitControls.js'></script>"
            ],
            "text/plain": [
              "<IPython.core.display.HTML object>"
            ]
          },
          "metadata": {
            "tags": []
          }
        },
        {
          "output_type": "display_data",
          "data": {
            "application/javascript": [
              "window[\"9819352e-7814-11e9-b239-0242ac1c0002\"] = new THREE.PerspectiveCamera(30, 1.0, 0.01, 1000.0);\n",
              "//# sourceURL=js_63e666fd3e"
            ],
            "text/plain": [
              "<IPython.core.display.Javascript object>"
            ]
          },
          "metadata": {
            "tags": []
          }
        },
        {
          "output_type": "display_data",
          "data": {
            "application/javascript": [
              "window[\"98199604-7814-11e9-b239-0242ac1c0002\"] = window[\"9819352e-7814-11e9-b239-0242ac1c0002\"].position.set(10.0, 10.0, 10.0);\n",
              "//# sourceURL=js_5f5008012f"
            ],
            "text/plain": [
              "<IPython.core.display.Javascript object>"
            ]
          },
          "metadata": {
            "tags": []
          }
        },
        {
          "output_type": "display_data",
          "data": {
            "application/javascript": [
              "window[\"981a0198-7814-11e9-b239-0242ac1c0002\"] = new THREE.OrbitControls(window[\"9819352e-7814-11e9-b239-0242ac1c0002\"]);\n",
              "//# sourceURL=js_1764302fd4"
            ],
            "text/plain": [
              "<IPython.core.display.Javascript object>"
            ]
          },
          "metadata": {
            "tags": []
          }
        },
        {
          "output_type": "display_data",
          "data": {
            "application/javascript": [
              "window[\"981a0198-7814-11e9-b239-0242ac1c0002\"].enableZoom = false;\n",
              "//# sourceURL=js_699841eb06"
            ],
            "text/plain": [
              "<IPython.core.display.Javascript object>"
            ]
          },
          "metadata": {
            "tags": []
          }
        },
        {
          "output_type": "display_data",
          "data": {
            "text/html": [
              "<script src='https://www.gstatic.com/external_hosted/threejs-r98/three.min.js'></script>"
            ],
            "text/plain": [
              "<IPython.core.display.HTML object>"
            ]
          },
          "metadata": {
            "tags": []
          }
        },
        {
          "output_type": "display_data",
          "data": {
            "text/html": [
              "<script src='https://www.gstatic.com/external_hosted/threejs-r98/examples/js/controls/OrbitControls.js'></script>"
            ],
            "text/plain": [
              "<IPython.core.display.HTML object>"
            ]
          },
          "metadata": {
            "tags": []
          }
        },
        {
          "output_type": "display_data",
          "data": {
            "application/javascript": [
              "window[\"981bb68c-7814-11e9-b239-0242ac1c0002\"] = new THREE.WebGLRenderer({\"antialias\": true});\n",
              "//# sourceURL=js_08858480c3"
            ],
            "text/plain": [
              "<IPython.core.display.Javascript object>"
            ]
          },
          "metadata": {
            "tags": []
          }
        },
        {
          "output_type": "display_data",
          "data": {
            "application/javascript": [
              "window[\"981c1afa-7814-11e9-b239-0242ac1c0002\"] = window[\"981bb68c-7814-11e9-b239-0242ac1c0002\"].setSize(200, 200);\n",
              "//# sourceURL=js_794f325d5e"
            ],
            "text/plain": [
              "<IPython.core.display.Javascript object>"
            ]
          },
          "metadata": {
            "tags": []
          }
        },
        {
          "output_type": "display_data",
          "data": {
            "application/javascript": [
              "window[\"981c7e6e-7814-11e9-b239-0242ac1c0002\"] = new THREE.Color(\"rgb(0, 0, 0)\");\n",
              "//# sourceURL=js_65781dd61c"
            ],
            "text/plain": [
              "<IPython.core.display.Javascript object>"
            ]
          },
          "metadata": {
            "tags": []
          }
        },
        {
          "output_type": "display_data",
          "data": {
            "application/javascript": [
              "window[\"981ccdc4-7814-11e9-b239-0242ac1c0002\"] = window[\"981bb68c-7814-11e9-b239-0242ac1c0002\"].setClearColor(window[\"981c7e6e-7814-11e9-b239-0242ac1c0002\"]);\n",
              "//# sourceURL=js_33e42590f4"
            ],
            "text/plain": [
              "<IPython.core.display.Javascript object>"
            ]
          },
          "metadata": {
            "tags": []
          }
        },
        {
          "output_type": "display_data",
          "data": {
            "application/javascript": [
              "window[\"981d2a76-7814-11e9-b239-0242ac1c0002\"] = window[\"981bb68c-7814-11e9-b239-0242ac1c0002\"].clear();\n",
              "//# sourceURL=js_1d8d663a36"
            ],
            "text/plain": [
              "<IPython.core.display.Javascript object>"
            ]
          },
          "metadata": {
            "tags": []
          }
        },
        {
          "output_type": "display_data",
          "data": {
            "application/javascript": [
              "window[\"981d72ce-7814-11e9-b239-0242ac1c0002\"] = document.body.appendChild(window[\"981bb68c-7814-11e9-b239-0242ac1c0002\"].domElement);\n",
              "//# sourceURL=js_ead6e58663"
            ],
            "text/plain": [
              "<IPython.core.display.Javascript object>"
            ]
          },
          "metadata": {
            "tags": []
          }
        },
        {
          "output_type": "display_data",
          "data": {
            "application/javascript": [
              "window[\"981dd520-7814-11e9-b239-0242ac1c0002\"] = new THREE.Scene();\n",
              "//# sourceURL=js_25e47bb92e"
            ],
            "text/plain": [
              "<IPython.core.display.Javascript object>"
            ]
          },
          "metadata": {
            "tags": []
          }
        },
        {
          "output_type": "display_data",
          "data": {
            "application/javascript": [
              "window[\"981e282c-7814-11e9-b239-0242ac1c0002\"] = window[\"981dd520-7814-11e9-b239-0242ac1c0002\"].add(window[\"981700ec-7814-11e9-b239-0242ac1c0002\"]);\n",
              "//# sourceURL=js_1fbad2d7f2"
            ],
            "text/plain": [
              "<IPython.core.display.Javascript object>"
            ]
          },
          "metadata": {
            "tags": []
          }
        },
        {
          "output_type": "display_data",
          "data": {
            "application/javascript": [
              "window[\"981e905a-7814-11e9-b239-0242ac1c0002\"] = window[\"981dd520-7814-11e9-b239-0242ac1c0002\"].add(window[\"9817c22a-7814-11e9-b239-0242ac1c0002\"]);\n",
              "//# sourceURL=js_0da198b816"
            ],
            "text/plain": [
              "<IPython.core.display.Javascript object>"
            ]
          },
          "metadata": {
            "tags": []
          }
        },
        {
          "output_type": "display_data",
          "data": {
            "application/javascript": [
              "window[\"981ef874-7814-11e9-b239-0242ac1c0002\"] = new THREE.MeshLambertMaterial({\"color\": 8421504});\n",
              "//# sourceURL=js_018cbcb5cd"
            ],
            "text/plain": [
              "<IPython.core.display.Javascript object>"
            ]
          },
          "metadata": {
            "tags": []
          }
        },
        {
          "output_type": "display_data",
          "data": {
            "application/javascript": [
              "window[\"981ef874-7814-11e9-b239-0242ac1c0002\"][\"vertexColors\"] = THREE.NoColors;\n",
              "//# sourceURL=js_0a6acb3121"
            ],
            "text/plain": [
              "<IPython.core.display.Javascript object>"
            ]
          },
          "metadata": {
            "tags": []
          }
        },
        {
          "output_type": "display_data",
          "data": {
            "application/javascript": [
              "window[\"98203248-7814-11e9-b239-0242ac1c0002\"] = new Float32Array([0.5686486959457397, -1.9206252098083496, 0.3389081358909607, -0.45312681794166565, -1.9553625583648682, 0.36258774995803833, 0.5795282125473022, -1.621301531791687, 1.2474565505981445, -0.44224703311920166, -1.6560388803482056, 1.2711364030838013, 0.537018895149231, -0.9908004403114319, 0.33811450004577637, -0.48475655913352966, -1.0255376100540161, 0.36179429292678833, 0.5435758829116821, -0.6339450478553772, 1.1445415019989014, -0.47819966077804565, -0.6686825156211853, 1.168221354484558, 0.5480157136917114, -1.8977326154708862, -0.5178170204162598, -0.47375965118408203, -1.9324700832366943, -0.49413707852363586, -0.509166955947876, -0.9154156446456909, -0.5299617648124695, 0.5126084685325623, -0.8806779980659485, -0.5536414384841919, 0.5240978002548218, -1.67363440990448, -1.2211169004440308, -0.4976775646209717, -1.708371877670288, -1.1974371671676636, -0.5283204317092896, -0.8880646228790283, -1.3163022994995117, 0.49345508217811584, -0.8533271551132202, -1.3399821519851685, -0.5279412269592285, -0.2704181373119354, -0.39387860894203186, 0.4938341975212097, -0.2356807291507721, -0.41755837202072144, 0.46971994638442993, -0.14182576537132263, -1.3203985691070557, -0.5520555973052979, -0.1765632927417755, -1.2967188358306885, -0.5557047128677368, 0.5239670872688293, -0.4265252351760864, 0.46607065200805664, 0.5587044954299927, -0.4502050280570984, 0.45231136679649353, 0.49476897716522217, -1.1377058029174805, -0.5694640874862671, 0.4600315988063812, -1.1140258312225342, -0.5081754326820374, -0.3045486509799957, 0.4089459776878357, 0.5135999321937561, -0.26981121301651, 0.38526618480682373, 0.4852132797241211, 0.638607382774353, 0.49300867319107056, -0.5365620851516724, 0.6038699150085449, 0.5166884660720825, -0.5003603100776672, -0.06292306631803513, 1.1006214618682861, 0.5214150547981262, -0.028185643255710602, 1.0769416093826294, 0.5072898268699646, 0.5129714012145996, 1.261303186416626, -0.5144855380058289, 0.47823381423950195, 1.2849828004837036, 0.46855711936950684, 1.1379048824310303, 0.506751537322998, -0.5532182455062866, 1.1031672954559326, 0.53043133020401, -0.5390830039978027, 1.2155838012695312, 1.3052778244018555, 0.4826925992965698, 1.250321388244629, 1.2815983295440674, 0.43928343057632446, 1.9433122873306274, 0.42511266469955444, -0.5824918746948242, 1.9085747003555298, 0.44879254698753357, -0.5615180730819702, 1.7785545587539673, 1.163068413734436, 0.4602573812007904, 1.8132919073104858, 1.1393884420394897, 0.443074494600296, 1.3225152492523193, -0.3219994902610779, -0.5787007808685303, 1.2877776622772217, -0.2983196973800659, -0.6045399904251099, 1.933037519454956, -0.46669620275497437, 0.4172351062297821, 1.967774748802185, -0.49037593603134155, 0.43772509694099426, 1.1014714241027832, -0.877085268497467, -0.584050178527832, 1.066733717918396, -0.8534055948257446, -0.6108018755912781, 1.69657564163208, -1.0837746858596802, 0.4109736680984497, 1.7313132286071777, -1.1074542999267578]);\n",
              "//# sourceURL=js_a9feb20465"
            ],
            "text/plain": [
              "<IPython.core.display.Javascript object>"
            ]
          },
          "metadata": {
            "tags": []
          }
        },
        {
          "output_type": "display_data",
          "data": {
            "application/javascript": [
              "window[\"9820fd9a-7814-11e9-b239-0242ac1c0002\"] = new Uint32Array([0.0, 2.0, 3.0, 3.0, 1.0, 0.0, 4.0, 5.0, 7.0, 7.0, 6.0, 4.0, 12.0, 13.0, 14.0, 14.0, 15.0, 12.0, 1.0, 3.0, 7.0, 7.0, 5.0, 1.0, 3.0, 2.0, 6.0, 6.0, 7.0, 3.0, 2.0, 0.0, 4.0, 4.0, 6.0, 2.0, 0.0, 1.0, 9.0, 9.0, 8.0, 0.0, 1.0, 5.0, 10.0, 10.0, 9.0, 1.0, 5.0, 4.0, 11.0, 11.0, 10.0, 5.0, 4.0, 0.0, 8.0, 8.0, 11.0, 4.0, 8.0, 9.0, 13.0, 13.0, 12.0, 8.0, 9.0, 10.0, 14.0, 14.0, 13.0, 9.0, 20.0, 21.0, 22.0, 22.0, 23.0, 20.0, 11.0, 8.0, 12.0, 12.0, 15.0, 11.0, 10.0, 11.0, 17.0, 17.0, 16.0, 10.0, 11.0, 15.0, 18.0, 18.0, 17.0, 11.0, 15.0, 14.0, 19.0, 19.0, 18.0, 15.0, 14.0, 10.0, 16.0, 16.0, 19.0, 14.0, 28.0, 29.0, 30.0, 30.0, 31.0, 28.0, 17.0, 18.0, 22.0, 22.0, 21.0, 17.0, 18.0, 19.0, 23.0, 23.0, 22.0, 18.0, 19.0, 16.0, 20.0, 20.0, 23.0, 19.0, 16.0, 17.0, 25.0, 25.0, 24.0, 16.0, 17.0, 21.0, 26.0, 26.0, 25.0, 17.0, 21.0, 20.0, 27.0, 27.0, 26.0, 21.0, 20.0, 16.0, 24.0, 24.0, 27.0, 20.0, 24.0, 25.0, 29.0, 29.0, 28.0, 24.0, 25.0, 26.0, 30.0, 30.0, 29.0, 25.0, 36.0, 37.0, 38.0, 38.0, 39.0, 36.0, 27.0, 24.0, 28.0, 28.0, 31.0, 27.0, 26.0, 27.0, 33.0, 33.0, 32.0, 26.0, 27.0, 31.0, 34.0, 34.0, 33.0, 27.0, 31.0, 30.0, 35.0, 35.0, 34.0, 31.0, 30.0, 26.0, 32.0, 32.0, 35.0, 30.0, 44.0, 45.0, 46.0, 46.0, 47.0, 44.0, 33.0, 34.0, 38.0, 38.0, 37.0, 33.0, 34.0, 35.0, 39.0, 39.0, 38.0, 34.0, 35.0, 32.0, 36.0, 36.0, 39.0, 35.0, 32.0, 33.0, 41.0, 41.0, 40.0, 32.0, 33.0, 37.0, 42.0, 42.0, 41.0, 33.0, 37.0, 36.0, 43.0, 43.0, 42.0, 37.0, 36.0, 32.0, 40.0, 40.0, 43.0, 36.0, 40.0, 41.0, 45.0, 45.0, 44.0, 40.0, 41.0, 42.0, 46.0, 46.0, 45.0, 41.0, 42.0, 43.0, 47.0, 47.0, 46.0, 42.0, 43.0, 40.0, 44.0, 44.0, 47.0, 43.0]);\n",
              "//# sourceURL=js_3c13dc032c"
            ],
            "text/plain": [
              "<IPython.core.display.Javascript object>"
            ]
          },
          "metadata": {
            "tags": []
          }
        },
        {
          "output_type": "display_data",
          "data": {
            "application/javascript": [
              "window[\"9821416a-7814-11e9-b239-0242ac1c0002\"] = new THREE.BufferGeometry();\n",
              "//# sourceURL=js_11aab03669"
            ],
            "text/plain": [
              "<IPython.core.display.Javascript object>"
            ]
          },
          "metadata": {
            "tags": []
          }
        },
        {
          "output_type": "display_data",
          "data": {
            "application/javascript": [
              "window[\"98218a3a-7814-11e9-b239-0242ac1c0002\"] = new THREE.BufferAttribute(window[\"98203248-7814-11e9-b239-0242ac1c0002\"], 3);\n",
              "//# sourceURL=js_0565c95a92"
            ],
            "text/plain": [
              "<IPython.core.display.Javascript object>"
            ]
          },
          "metadata": {
            "tags": []
          }
        },
        {
          "output_type": "display_data",
          "data": {
            "application/javascript": [
              "window[\"9821d5a8-7814-11e9-b239-0242ac1c0002\"] = window[\"9821416a-7814-11e9-b239-0242ac1c0002\"].addAttribute(\"position\", window[\"98218a3a-7814-11e9-b239-0242ac1c0002\"]);\n",
              "//# sourceURL=js_00d01c463b"
            ],
            "text/plain": [
              "<IPython.core.display.Javascript object>"
            ]
          },
          "metadata": {
            "tags": []
          }
        },
        {
          "output_type": "display_data",
          "data": {
            "application/javascript": [
              "window[\"98223674-7814-11e9-b239-0242ac1c0002\"] = new THREE.BufferAttribute(window[\"9820fd9a-7814-11e9-b239-0242ac1c0002\"], 1);\n",
              "//# sourceURL=js_cc2fcff481"
            ],
            "text/plain": [
              "<IPython.core.display.Javascript object>"
            ]
          },
          "metadata": {
            "tags": []
          }
        },
        {
          "output_type": "display_data",
          "data": {
            "application/javascript": [
              "window[\"9822e498-7814-11e9-b239-0242ac1c0002\"] = window[\"9821416a-7814-11e9-b239-0242ac1c0002\"].setIndex(window[\"98223674-7814-11e9-b239-0242ac1c0002\"]);\n",
              "//# sourceURL=js_e5062cd984"
            ],
            "text/plain": [
              "<IPython.core.display.Javascript object>"
            ]
          },
          "metadata": {
            "tags": []
          }
        },
        {
          "output_type": "display_data",
          "data": {
            "application/javascript": [
              "window[\"9823181e-7814-11e9-b239-0242ac1c0002\"] = window[\"9821416a-7814-11e9-b239-0242ac1c0002\"].computeVertexNormals();\n",
              "//# sourceURL=js_482f7794c4"
            ],
            "text/plain": [
              "<IPython.core.display.Javascript object>"
            ]
          },
          "metadata": {
            "tags": []
          }
        },
        {
          "output_type": "display_data",
          "data": {
            "application/javascript": [
              "window[\"982389b6-7814-11e9-b239-0242ac1c0002\"] = new THREE.Mesh(window[\"9821416a-7814-11e9-b239-0242ac1c0002\"], window[\"98185744-7814-11e9-b239-0242ac1c0002\"]);\n",
              "//# sourceURL=js_b94ca47a44"
            ],
            "text/plain": [
              "<IPython.core.display.Javascript object>"
            ]
          },
          "metadata": {
            "tags": []
          }
        },
        {
          "output_type": "display_data",
          "data": {
            "application/javascript": [
              "window[\"9823ebfe-7814-11e9-b239-0242ac1c0002\"] = window[\"981dd520-7814-11e9-b239-0242ac1c0002\"].add(window[\"982389b6-7814-11e9-b239-0242ac1c0002\"]);\n",
              "//# sourceURL=js_6681edc21f"
            ],
            "text/plain": [
              "<IPython.core.display.Javascript object>"
            ]
          },
          "metadata": {
            "tags": []
          }
        }
      ]
    }
  ]
}